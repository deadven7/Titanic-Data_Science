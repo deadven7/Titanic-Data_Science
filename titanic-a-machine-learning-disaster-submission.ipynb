{
 "cells": [
  {
   "cell_type": "markdown",
   "metadata": {
    "_cell_guid": "79c7e3d0-c299-4dcb-8224-4455121ee9b0",
    "_uuid": "d629ff2d2480ee46fbb7e2d37f6b5fab8052498a",
    "collapsed": true,
    "papermill": {
     "duration": 0.063137,
     "end_time": "2020-11-08T08:14:13.687591",
     "exception": false,
     "start_time": "2020-11-08T08:14:13.624454",
     "status": "completed"
    },
    "tags": []
   },
   "source": [
    "## Titanic: Machine Learning From Disaster\n",
    "### A Data Science Solution\n",
    "\n",
    "This is a dataset containing a train module and a test module. There will be data wrangling, feature engineering, data cleaning, data visualisation, data analysis and a little bit of machine learning for the test module on the side. \n",
    "This notebook has been partly inspired by the notebook titled \"Titanic Data Science Solutions\", a great help indeed. \n"
   ]
  },
  {
   "cell_type": "markdown",
   "metadata": {
    "papermill": {
     "duration": 0.061307,
     "end_time": "2020-11-08T08:14:13.810755",
     "exception": false,
     "start_time": "2020-11-08T08:14:13.749448",
     "status": "completed"
    },
    "tags": []
   },
   "source": [
    "We begin with a simple task, calling the libraries we need in order to analyse and predict with this dataset. \n",
    "For this, we will divide the libraries we call into 3 parts - \n",
    "* Data Cleaning / Wrangling\n",
    "* Data Visualization / Analysis\n",
    "* Machine Learning"
   ]
  },
  {
   "cell_type": "markdown",
   "metadata": {
    "papermill": {
     "duration": 0.061679,
     "end_time": "2020-11-08T08:14:13.933748",
     "exception": false,
     "start_time": "2020-11-08T08:14:13.872069",
     "status": "completed"
    },
    "tags": []
   },
   "source": [
    "### Importing Libraries"
   ]
  },
  {
   "cell_type": "markdown",
   "metadata": {
    "papermill": {
     "duration": 0.061034,
     "end_time": "2020-11-08T08:14:14.056323",
     "exception": false,
     "start_time": "2020-11-08T08:14:13.995289",
     "status": "completed"
    },
    "tags": []
   },
   "source": [
    "Importing Data Cleaning / Wrangling Libraries"
   ]
  },
  {
   "cell_type": "code",
   "execution_count": 1,
   "metadata": {
    "execution": {
     "iopub.execute_input": "2020-11-08T08:14:14.186846Z",
     "iopub.status.busy": "2020-11-08T08:14:14.185924Z",
     "iopub.status.idle": "2020-11-08T08:14:14.189586Z",
     "shell.execute_reply": "2020-11-08T08:14:14.190399Z"
    },
    "papermill": {
     "duration": 0.073157,
     "end_time": "2020-11-08T08:14:14.190653",
     "exception": false,
     "start_time": "2020-11-08T08:14:14.117496",
     "status": "completed"
    },
    "tags": []
   },
   "outputs": [
    {
     "name": "stdout",
     "output_type": "stream",
     "text": [
      "Libraries imported successfully\n"
     ]
    }
   ],
   "source": [
    "import pandas as pd\n",
    "import numpy as np\n",
    "\n",
    "print(\"Libraries imported successfully\")"
   ]
  },
  {
   "cell_type": "markdown",
   "metadata": {
    "papermill": {
     "duration": 0.062749,
     "end_time": "2020-11-08T08:14:14.317046",
     "exception": false,
     "start_time": "2020-11-08T08:14:14.254297",
     "status": "completed"
    },
    "tags": []
   },
   "source": [
    "Importing Data Visualisation / Analysis Libraries"
   ]
  },
  {
   "cell_type": "code",
   "execution_count": 2,
   "metadata": {
    "execution": {
     "iopub.execute_input": "2020-11-08T08:14:14.449285Z",
     "iopub.status.busy": "2020-11-08T08:14:14.448480Z",
     "iopub.status.idle": "2020-11-08T08:14:16.708943Z",
     "shell.execute_reply": "2020-11-08T08:14:16.708131Z"
    },
    "papermill": {
     "duration": 2.330143,
     "end_time": "2020-11-08T08:14:16.709088",
     "exception": false,
     "start_time": "2020-11-08T08:14:14.378945",
     "status": "completed"
    },
    "tags": []
   },
   "outputs": [
    {
     "name": "stdout",
     "output_type": "stream",
     "text": [
      "Libraries imported successfully\n"
     ]
    }
   ],
   "source": [
    "import matplotlib.pyplot as plt\n",
    "import seaborn as sns\n",
    "import plotly.express as px\n",
    "import plotly.graph_objects as go\n",
    "\n",
    "print(\"Libraries imported successfully\")"
   ]
  },
  {
   "cell_type": "markdown",
   "metadata": {
    "papermill": {
     "duration": 0.062489,
     "end_time": "2020-11-08T08:14:16.834818",
     "exception": false,
     "start_time": "2020-11-08T08:14:16.772329",
     "status": "completed"
    },
    "tags": []
   },
   "source": [
    "Importing Machine Learning Libraries"
   ]
  },
  {
   "cell_type": "code",
   "execution_count": 3,
   "metadata": {
    "execution": {
     "iopub.execute_input": "2020-11-08T08:14:16.970273Z",
     "iopub.status.busy": "2020-11-08T08:14:16.969338Z",
     "iopub.status.idle": "2020-11-08T08:14:17.333195Z",
     "shell.execute_reply": "2020-11-08T08:14:17.333977Z"
    },
    "papermill": {
     "duration": 0.436395,
     "end_time": "2020-11-08T08:14:17.334144",
     "exception": false,
     "start_time": "2020-11-08T08:14:16.897749",
     "status": "completed"
    },
    "tags": []
   },
   "outputs": [
    {
     "name": "stdout",
     "output_type": "stream",
     "text": [
      "Libraries imported successfully\n"
     ]
    }
   ],
   "source": [
    "from sklearn.linear_model import LogisticRegression\n",
    "from sklearn.svm import SVC, LinearSVC\n",
    "from sklearn.ensemble import RandomForestClassifier\n",
    "from sklearn.neighbors import KNeighborsClassifier\n",
    "from sklearn.naive_bayes import GaussianNB\n",
    "from sklearn.linear_model import Perceptron\n",
    "from sklearn.linear_model import SGDClassifier\n",
    "from sklearn.tree import DecisionTreeClassifier\n",
    "\n",
    "print(\"Libraries imported successfully\")"
   ]
  },
  {
   "cell_type": "markdown",
   "metadata": {
    "papermill": {
     "duration": 0.06397,
     "end_time": "2020-11-08T08:14:17.461805",
     "exception": false,
     "start_time": "2020-11-08T08:14:17.397835",
     "status": "completed"
    },
    "tags": []
   },
   "source": [
    "We now import the dataset"
   ]
  },
  {
   "cell_type": "markdown",
   "metadata": {
    "papermill": {
     "duration": 0.062953,
     "end_time": "2020-11-08T08:14:17.587768",
     "exception": false,
     "start_time": "2020-11-08T08:14:17.524815",
     "status": "completed"
    },
    "tags": []
   },
   "source": [
    "### Importing the Dataset"
   ]
  },
  {
   "cell_type": "code",
   "execution_count": 4,
   "metadata": {
    "execution": {
     "iopub.execute_input": "2020-11-08T08:14:17.725729Z",
     "iopub.status.busy": "2020-11-08T08:14:17.724851Z",
     "iopub.status.idle": "2020-11-08T08:14:17.796357Z",
     "shell.execute_reply": "2020-11-08T08:14:17.797021Z"
    },
    "papermill": {
     "duration": 0.146339,
     "end_time": "2020-11-08T08:14:17.797203",
     "exception": false,
     "start_time": "2020-11-08T08:14:17.650864",
     "status": "completed"
    },
    "tags": []
   },
   "outputs": [
    {
     "data": {
      "text/html": [
       "<div>\n",
       "<style scoped>\n",
       "    .dataframe tbody tr th:only-of-type {\n",
       "        vertical-align: middle;\n",
       "    }\n",
       "\n",
       "    .dataframe tbody tr th {\n",
       "        vertical-align: top;\n",
       "    }\n",
       "\n",
       "    .dataframe thead th {\n",
       "        text-align: right;\n",
       "    }\n",
       "</style>\n",
       "<table border=\"1\" class=\"dataframe\">\n",
       "  <thead>\n",
       "    <tr style=\"text-align: right;\">\n",
       "      <th></th>\n",
       "      <th>PassengerId</th>\n",
       "      <th>Survived</th>\n",
       "      <th>Pclass</th>\n",
       "      <th>Name</th>\n",
       "      <th>Sex</th>\n",
       "      <th>Age</th>\n",
       "      <th>SibSp</th>\n",
       "      <th>Parch</th>\n",
       "      <th>Ticket</th>\n",
       "      <th>Fare</th>\n",
       "      <th>Cabin</th>\n",
       "      <th>Embarked</th>\n",
       "    </tr>\n",
       "  </thead>\n",
       "  <tbody>\n",
       "    <tr>\n",
       "      <th>0</th>\n",
       "      <td>1</td>\n",
       "      <td>0.0</td>\n",
       "      <td>3</td>\n",
       "      <td>Braund, Mr. Owen Harris</td>\n",
       "      <td>male</td>\n",
       "      <td>22.0</td>\n",
       "      <td>1</td>\n",
       "      <td>0</td>\n",
       "      <td>A/5 21171</td>\n",
       "      <td>7.2500</td>\n",
       "      <td>NaN</td>\n",
       "      <td>S</td>\n",
       "    </tr>\n",
       "    <tr>\n",
       "      <th>1</th>\n",
       "      <td>2</td>\n",
       "      <td>1.0</td>\n",
       "      <td>1</td>\n",
       "      <td>Cumings, Mrs. John Bradley (Florence Briggs Th...</td>\n",
       "      <td>female</td>\n",
       "      <td>38.0</td>\n",
       "      <td>1</td>\n",
       "      <td>0</td>\n",
       "      <td>PC 17599</td>\n",
       "      <td>71.2833</td>\n",
       "      <td>C85</td>\n",
       "      <td>C</td>\n",
       "    </tr>\n",
       "    <tr>\n",
       "      <th>2</th>\n",
       "      <td>3</td>\n",
       "      <td>1.0</td>\n",
       "      <td>3</td>\n",
       "      <td>Heikkinen, Miss. Laina</td>\n",
       "      <td>female</td>\n",
       "      <td>26.0</td>\n",
       "      <td>0</td>\n",
       "      <td>0</td>\n",
       "      <td>STON/O2. 3101282</td>\n",
       "      <td>7.9250</td>\n",
       "      <td>NaN</td>\n",
       "      <td>S</td>\n",
       "    </tr>\n",
       "    <tr>\n",
       "      <th>3</th>\n",
       "      <td>4</td>\n",
       "      <td>1.0</td>\n",
       "      <td>1</td>\n",
       "      <td>Futrelle, Mrs. Jacques Heath (Lily May Peel)</td>\n",
       "      <td>female</td>\n",
       "      <td>35.0</td>\n",
       "      <td>1</td>\n",
       "      <td>0</td>\n",
       "      <td>113803</td>\n",
       "      <td>53.1000</td>\n",
       "      <td>C123</td>\n",
       "      <td>S</td>\n",
       "    </tr>\n",
       "    <tr>\n",
       "      <th>4</th>\n",
       "      <td>5</td>\n",
       "      <td>0.0</td>\n",
       "      <td>3</td>\n",
       "      <td>Allen, Mr. William Henry</td>\n",
       "      <td>male</td>\n",
       "      <td>35.0</td>\n",
       "      <td>0</td>\n",
       "      <td>0</td>\n",
       "      <td>373450</td>\n",
       "      <td>8.0500</td>\n",
       "      <td>NaN</td>\n",
       "      <td>S</td>\n",
       "    </tr>\n",
       "    <tr>\n",
       "      <th>...</th>\n",
       "      <td>...</td>\n",
       "      <td>...</td>\n",
       "      <td>...</td>\n",
       "      <td>...</td>\n",
       "      <td>...</td>\n",
       "      <td>...</td>\n",
       "      <td>...</td>\n",
       "      <td>...</td>\n",
       "      <td>...</td>\n",
       "      <td>...</td>\n",
       "      <td>...</td>\n",
       "      <td>...</td>\n",
       "    </tr>\n",
       "    <tr>\n",
       "      <th>413</th>\n",
       "      <td>1305</td>\n",
       "      <td>NaN</td>\n",
       "      <td>3</td>\n",
       "      <td>Spector, Mr. Woolf</td>\n",
       "      <td>male</td>\n",
       "      <td>NaN</td>\n",
       "      <td>0</td>\n",
       "      <td>0</td>\n",
       "      <td>A.5. 3236</td>\n",
       "      <td>8.0500</td>\n",
       "      <td>NaN</td>\n",
       "      <td>S</td>\n",
       "    </tr>\n",
       "    <tr>\n",
       "      <th>414</th>\n",
       "      <td>1306</td>\n",
       "      <td>NaN</td>\n",
       "      <td>1</td>\n",
       "      <td>Oliva y Ocana, Dona. Fermina</td>\n",
       "      <td>female</td>\n",
       "      <td>39.0</td>\n",
       "      <td>0</td>\n",
       "      <td>0</td>\n",
       "      <td>PC 17758</td>\n",
       "      <td>108.9000</td>\n",
       "      <td>C105</td>\n",
       "      <td>C</td>\n",
       "    </tr>\n",
       "    <tr>\n",
       "      <th>415</th>\n",
       "      <td>1307</td>\n",
       "      <td>NaN</td>\n",
       "      <td>3</td>\n",
       "      <td>Saether, Mr. Simon Sivertsen</td>\n",
       "      <td>male</td>\n",
       "      <td>38.5</td>\n",
       "      <td>0</td>\n",
       "      <td>0</td>\n",
       "      <td>SOTON/O.Q. 3101262</td>\n",
       "      <td>7.2500</td>\n",
       "      <td>NaN</td>\n",
       "      <td>S</td>\n",
       "    </tr>\n",
       "    <tr>\n",
       "      <th>416</th>\n",
       "      <td>1308</td>\n",
       "      <td>NaN</td>\n",
       "      <td>3</td>\n",
       "      <td>Ware, Mr. Frederick</td>\n",
       "      <td>male</td>\n",
       "      <td>NaN</td>\n",
       "      <td>0</td>\n",
       "      <td>0</td>\n",
       "      <td>359309</td>\n",
       "      <td>8.0500</td>\n",
       "      <td>NaN</td>\n",
       "      <td>S</td>\n",
       "    </tr>\n",
       "    <tr>\n",
       "      <th>417</th>\n",
       "      <td>1309</td>\n",
       "      <td>NaN</td>\n",
       "      <td>3</td>\n",
       "      <td>Peter, Master. Michael J</td>\n",
       "      <td>male</td>\n",
       "      <td>NaN</td>\n",
       "      <td>1</td>\n",
       "      <td>1</td>\n",
       "      <td>2668</td>\n",
       "      <td>22.3583</td>\n",
       "      <td>NaN</td>\n",
       "      <td>C</td>\n",
       "    </tr>\n",
       "  </tbody>\n",
       "</table>\n",
       "<p>1309 rows × 12 columns</p>\n",
       "</div>"
      ],
      "text/plain": [
       "     PassengerId  Survived  Pclass  \\\n",
       "0              1       0.0       3   \n",
       "1              2       1.0       1   \n",
       "2              3       1.0       3   \n",
       "3              4       1.0       1   \n",
       "4              5       0.0       3   \n",
       "..           ...       ...     ...   \n",
       "413         1305       NaN       3   \n",
       "414         1306       NaN       1   \n",
       "415         1307       NaN       3   \n",
       "416         1308       NaN       3   \n",
       "417         1309       NaN       3   \n",
       "\n",
       "                                                  Name     Sex   Age  SibSp  \\\n",
       "0                              Braund, Mr. Owen Harris    male  22.0      1   \n",
       "1    Cumings, Mrs. John Bradley (Florence Briggs Th...  female  38.0      1   \n",
       "2                               Heikkinen, Miss. Laina  female  26.0      0   \n",
       "3         Futrelle, Mrs. Jacques Heath (Lily May Peel)  female  35.0      1   \n",
       "4                             Allen, Mr. William Henry    male  35.0      0   \n",
       "..                                                 ...     ...   ...    ...   \n",
       "413                                 Spector, Mr. Woolf    male   NaN      0   \n",
       "414                       Oliva y Ocana, Dona. Fermina  female  39.0      0   \n",
       "415                       Saether, Mr. Simon Sivertsen    male  38.5      0   \n",
       "416                                Ware, Mr. Frederick    male   NaN      0   \n",
       "417                           Peter, Master. Michael J    male   NaN      1   \n",
       "\n",
       "     Parch              Ticket      Fare Cabin Embarked  \n",
       "0        0           A/5 21171    7.2500   NaN        S  \n",
       "1        0            PC 17599   71.2833   C85        C  \n",
       "2        0    STON/O2. 3101282    7.9250   NaN        S  \n",
       "3        0              113803   53.1000  C123        S  \n",
       "4        0              373450    8.0500   NaN        S  \n",
       "..     ...                 ...       ...   ...      ...  \n",
       "413      0           A.5. 3236    8.0500   NaN        S  \n",
       "414      0            PC 17758  108.9000  C105        C  \n",
       "415      0  SOTON/O.Q. 3101262    7.2500   NaN        S  \n",
       "416      0              359309    8.0500   NaN        S  \n",
       "417      1                2668   22.3583   NaN        C  \n",
       "\n",
       "[1309 rows x 12 columns]"
      ]
     },
     "execution_count": 4,
     "metadata": {},
     "output_type": "execute_result"
    }
   ],
   "source": [
    "filepath_train = \"../input/titanic/train.csv\"\n",
    "filepath_test = \"../input/titanic/test.csv\"\n",
    "train = pd.read_csv(filepath_train)\n",
    "test = pd.read_csv(filepath_test)\n",
    "data = pd.concat([train, test])\n",
    "data"
   ]
  },
  {
   "cell_type": "markdown",
   "metadata": {
    "papermill": {
     "duration": 0.064893,
     "end_time": "2020-11-08T08:14:17.928139",
     "exception": false,
     "start_time": "2020-11-08T08:14:17.863246",
     "status": "completed"
    },
    "tags": []
   },
   "source": [
    "Now that we have imported the dataset, it is time we look around and see what is in the dataset. Starting with, we first check the columns that are present in the dataset. "
   ]
  },
  {
   "cell_type": "code",
   "execution_count": 5,
   "metadata": {
    "execution": {
     "iopub.execute_input": "2020-11-08T08:14:18.090597Z",
     "iopub.status.busy": "2020-11-08T08:14:18.089506Z",
     "iopub.status.idle": "2020-11-08T08:14:18.095545Z",
     "shell.execute_reply": "2020-11-08T08:14:18.094871Z"
    },
    "papermill": {
     "duration": 0.092559,
     "end_time": "2020-11-08T08:14:18.095757",
     "exception": false,
     "start_time": "2020-11-08T08:14:18.003198",
     "status": "completed"
    },
    "tags": []
   },
   "outputs": [
    {
     "data": {
      "text/plain": [
       "Index(['PassengerId', 'Survived', 'Pclass', 'Name', 'Sex', 'Age', 'SibSp',\n",
       "       'Parch', 'Ticket', 'Fare', 'Cabin', 'Embarked'],\n",
       "      dtype='object')"
      ]
     },
     "execution_count": 5,
     "metadata": {},
     "output_type": "execute_result"
    }
   ],
   "source": [
    "data.columns"
   ]
  },
  {
   "cell_type": "markdown",
   "metadata": {
    "papermill": {
     "duration": 0.066603,
     "end_time": "2020-11-08T08:14:18.233566",
     "exception": false,
     "start_time": "2020-11-08T08:14:18.166963",
     "status": "completed"
    },
    "tags": []
   },
   "source": [
    "Next, we check if there are any null values we can reject or convert to a value in the dataset."
   ]
  },
  {
   "cell_type": "code",
   "execution_count": 6,
   "metadata": {
    "execution": {
     "iopub.execute_input": "2020-11-08T08:14:18.374939Z",
     "iopub.status.busy": "2020-11-08T08:14:18.374141Z",
     "iopub.status.idle": "2020-11-08T08:14:18.382804Z",
     "shell.execute_reply": "2020-11-08T08:14:18.382180Z"
    },
    "papermill": {
     "duration": 0.083246,
     "end_time": "2020-11-08T08:14:18.382936",
     "exception": false,
     "start_time": "2020-11-08T08:14:18.299690",
     "status": "completed"
    },
    "tags": []
   },
   "outputs": [
    {
     "data": {
      "text/plain": [
       "PassengerId       0\n",
       "Survived        418\n",
       "Pclass            0\n",
       "Name              0\n",
       "Sex               0\n",
       "Age             263\n",
       "SibSp             0\n",
       "Parch             0\n",
       "Ticket            0\n",
       "Fare              1\n",
       "Cabin          1014\n",
       "Embarked          2\n",
       "dtype: int64"
      ]
     },
     "execution_count": 6,
     "metadata": {},
     "output_type": "execute_result"
    }
   ],
   "source": [
    "data.isnull().sum()"
   ]
  },
  {
   "cell_type": "markdown",
   "metadata": {
    "papermill": {
     "duration": 0.064797,
     "end_time": "2020-11-08T08:14:18.515725",
     "exception": false,
     "start_time": "2020-11-08T08:14:18.450928",
     "status": "completed"
    },
    "tags": []
   },
   "source": [
    "We do not fill the data in just yet. As we can see clearly, Cabin has a majority of its values empty. It makes much more sense to drop this entire column.\n"
   ]
  },
  {
   "cell_type": "markdown",
   "metadata": {
    "papermill": {
     "duration": 0.065234,
     "end_time": "2020-11-08T08:14:18.646387",
     "exception": false,
     "start_time": "2020-11-08T08:14:18.581153",
     "status": "completed"
    },
    "tags": []
   },
   "source": [
    "As of now, we have imported and explored the dataset. It is now time to start briefly manipulating and analysing data"
   ]
  },
  {
   "cell_type": "code",
   "execution_count": 7,
   "metadata": {
    "execution": {
     "iopub.execute_input": "2020-11-08T08:14:18.831555Z",
     "iopub.status.busy": "2020-11-08T08:14:18.830772Z",
     "iopub.status.idle": "2020-11-08T08:14:18.859237Z",
     "shell.execute_reply": "2020-11-08T08:14:18.858424Z"
    },
    "papermill": {
     "duration": 0.147319,
     "end_time": "2020-11-08T08:14:18.859377",
     "exception": false,
     "start_time": "2020-11-08T08:14:18.712058",
     "status": "completed"
    },
    "tags": []
   },
   "outputs": [
    {
     "data": {
      "text/html": [
       "<div>\n",
       "<style scoped>\n",
       "    .dataframe tbody tr th:only-of-type {\n",
       "        vertical-align: middle;\n",
       "    }\n",
       "\n",
       "    .dataframe tbody tr th {\n",
       "        vertical-align: top;\n",
       "    }\n",
       "\n",
       "    .dataframe thead th {\n",
       "        text-align: right;\n",
       "    }\n",
       "</style>\n",
       "<table border=\"1\" class=\"dataframe\">\n",
       "  <thead>\n",
       "    <tr style=\"text-align: right;\">\n",
       "      <th></th>\n",
       "      <th>Survived</th>\n",
       "      <th>Pclass</th>\n",
       "      <th>Sex</th>\n",
       "      <th>Age</th>\n",
       "      <th>SibSp</th>\n",
       "      <th>Parch</th>\n",
       "      <th>Fare</th>\n",
       "      <th>Embarked</th>\n",
       "      <th>Title</th>\n",
       "    </tr>\n",
       "  </thead>\n",
       "  <tbody>\n",
       "    <tr>\n",
       "      <th>0</th>\n",
       "      <td>0.0</td>\n",
       "      <td>3</td>\n",
       "      <td>male</td>\n",
       "      <td>22.0</td>\n",
       "      <td>1</td>\n",
       "      <td>0</td>\n",
       "      <td>7.2500</td>\n",
       "      <td>S</td>\n",
       "      <td>Mr</td>\n",
       "    </tr>\n",
       "    <tr>\n",
       "      <th>1</th>\n",
       "      <td>1.0</td>\n",
       "      <td>1</td>\n",
       "      <td>female</td>\n",
       "      <td>38.0</td>\n",
       "      <td>1</td>\n",
       "      <td>0</td>\n",
       "      <td>71.2833</td>\n",
       "      <td>C</td>\n",
       "      <td>Mrs</td>\n",
       "    </tr>\n",
       "    <tr>\n",
       "      <th>2</th>\n",
       "      <td>1.0</td>\n",
       "      <td>3</td>\n",
       "      <td>female</td>\n",
       "      <td>26.0</td>\n",
       "      <td>0</td>\n",
       "      <td>0</td>\n",
       "      <td>7.9250</td>\n",
       "      <td>S</td>\n",
       "      <td>Miss</td>\n",
       "    </tr>\n",
       "    <tr>\n",
       "      <th>3</th>\n",
       "      <td>1.0</td>\n",
       "      <td>1</td>\n",
       "      <td>female</td>\n",
       "      <td>35.0</td>\n",
       "      <td>1</td>\n",
       "      <td>0</td>\n",
       "      <td>53.1000</td>\n",
       "      <td>S</td>\n",
       "      <td>Mrs</td>\n",
       "    </tr>\n",
       "    <tr>\n",
       "      <th>4</th>\n",
       "      <td>0.0</td>\n",
       "      <td>3</td>\n",
       "      <td>male</td>\n",
       "      <td>35.0</td>\n",
       "      <td>0</td>\n",
       "      <td>0</td>\n",
       "      <td>8.0500</td>\n",
       "      <td>S</td>\n",
       "      <td>Mr</td>\n",
       "    </tr>\n",
       "    <tr>\n",
       "      <th>...</th>\n",
       "      <td>...</td>\n",
       "      <td>...</td>\n",
       "      <td>...</td>\n",
       "      <td>...</td>\n",
       "      <td>...</td>\n",
       "      <td>...</td>\n",
       "      <td>...</td>\n",
       "      <td>...</td>\n",
       "      <td>...</td>\n",
       "    </tr>\n",
       "    <tr>\n",
       "      <th>413</th>\n",
       "      <td>NaN</td>\n",
       "      <td>3</td>\n",
       "      <td>male</td>\n",
       "      <td>NaN</td>\n",
       "      <td>0</td>\n",
       "      <td>0</td>\n",
       "      <td>8.0500</td>\n",
       "      <td>S</td>\n",
       "      <td>Mr</td>\n",
       "    </tr>\n",
       "    <tr>\n",
       "      <th>414</th>\n",
       "      <td>NaN</td>\n",
       "      <td>1</td>\n",
       "      <td>female</td>\n",
       "      <td>39.0</td>\n",
       "      <td>0</td>\n",
       "      <td>0</td>\n",
       "      <td>108.9000</td>\n",
       "      <td>C</td>\n",
       "      <td>Dona</td>\n",
       "    </tr>\n",
       "    <tr>\n",
       "      <th>415</th>\n",
       "      <td>NaN</td>\n",
       "      <td>3</td>\n",
       "      <td>male</td>\n",
       "      <td>38.5</td>\n",
       "      <td>0</td>\n",
       "      <td>0</td>\n",
       "      <td>7.2500</td>\n",
       "      <td>S</td>\n",
       "      <td>Mr</td>\n",
       "    </tr>\n",
       "    <tr>\n",
       "      <th>416</th>\n",
       "      <td>NaN</td>\n",
       "      <td>3</td>\n",
       "      <td>male</td>\n",
       "      <td>NaN</td>\n",
       "      <td>0</td>\n",
       "      <td>0</td>\n",
       "      <td>8.0500</td>\n",
       "      <td>S</td>\n",
       "      <td>Mr</td>\n",
       "    </tr>\n",
       "    <tr>\n",
       "      <th>417</th>\n",
       "      <td>NaN</td>\n",
       "      <td>3</td>\n",
       "      <td>male</td>\n",
       "      <td>NaN</td>\n",
       "      <td>1</td>\n",
       "      <td>1</td>\n",
       "      <td>22.3583</td>\n",
       "      <td>C</td>\n",
       "      <td>Master</td>\n",
       "    </tr>\n",
       "  </tbody>\n",
       "</table>\n",
       "<p>1309 rows × 9 columns</p>\n",
       "</div>"
      ],
      "text/plain": [
       "     Survived  Pclass     Sex   Age  SibSp  Parch      Fare Embarked   Title\n",
       "0         0.0       3    male  22.0      1      0    7.2500        S      Mr\n",
       "1         1.0       1  female  38.0      1      0   71.2833        C     Mrs\n",
       "2         1.0       3  female  26.0      0      0    7.9250        S    Miss\n",
       "3         1.0       1  female  35.0      1      0   53.1000        S     Mrs\n",
       "4         0.0       3    male  35.0      0      0    8.0500        S      Mr\n",
       "..        ...     ...     ...   ...    ...    ...       ...      ...     ...\n",
       "413       NaN       3    male   NaN      0      0    8.0500        S      Mr\n",
       "414       NaN       1  female  39.0      0      0  108.9000        C    Dona\n",
       "415       NaN       3    male  38.5      0      0    7.2500        S      Mr\n",
       "416       NaN       3    male   NaN      0      0    8.0500        S      Mr\n",
       "417       NaN       3    male   NaN      1      1   22.3583        C  Master\n",
       "\n",
       "[1309 rows x 9 columns]"
      ]
     },
     "execution_count": 7,
     "metadata": {},
     "output_type": "execute_result"
    }
   ],
   "source": [
    "for titles in data:\n",
    "    data['Title'] = data['Name'].str.extract(' ([A-Za-z]+)\\.', expand=False)\n",
    "data = data.drop(['Ticket', 'Cabin', 'Name', 'PassengerId'], axis=1)\n",
    "data"
   ]
  },
  {
   "cell_type": "markdown",
   "metadata": {
    "papermill": {
     "duration": 0.066749,
     "end_time": "2020-11-08T08:14:18.995838",
     "exception": false,
     "start_time": "2020-11-08T08:14:18.929089",
     "status": "completed"
    },
    "tags": []
   },
   "source": [
    "### Analysing the Training Dataset"
   ]
  },
  {
   "cell_type": "markdown",
   "metadata": {
    "papermill": {
     "duration": 0.065804,
     "end_time": "2020-11-08T08:14:19.129550",
     "exception": false,
     "start_time": "2020-11-08T08:14:19.063746",
     "status": "completed"
    },
    "tags": []
   },
   "source": [
    "We now start with makng valued comparisons across various features present in the training dataset. This gives an idea of how we interpret the dataset, and provides an understanding with regards to the various features present in the dataset. "
   ]
  },
  {
   "cell_type": "markdown",
   "metadata": {
    "papermill": {
     "duration": 0.06632,
     "end_time": "2020-11-08T08:14:19.263008",
     "exception": false,
     "start_time": "2020-11-08T08:14:19.196688",
     "status": "completed"
    },
    "tags": []
   },
   "source": [
    "#### Check Survival Rate Based on Age"
   ]
  },
  {
   "cell_type": "code",
   "execution_count": 8,
   "metadata": {
    "execution": {
     "iopub.execute_input": "2020-11-08T08:14:19.417885Z",
     "iopub.status.busy": "2020-11-08T08:14:19.416823Z",
     "iopub.status.idle": "2020-11-08T08:14:19.682517Z",
     "shell.execute_reply": "2020-11-08T08:14:19.681631Z"
    },
    "papermill": {
     "duration": 0.352385,
     "end_time": "2020-11-08T08:14:19.682710",
     "exception": false,
     "start_time": "2020-11-08T08:14:19.330325",
     "status": "completed"
    },
    "tags": []
   },
   "outputs": [
    {
     "name": "stdout",
     "output_type": "stream",
     "text": [
      "  AgeCat   Survived\n",
      "0   0-16  55.000000\n",
      "1  17-32  36.994220\n",
      "2  33-48  40.425532\n",
      "3  49-64  43.478261\n",
      "4  65-80   9.090909\n"
     ]
    },
    {
     "data": {
      "image/png": "[encoded data removed]",
      "text/plain": [
       "<Figure size 720x360 with 1 Axes>"
      ]
     },
     "metadata": {
      "needs_background": "light"
     },
     "output_type": "display_data"
    }
   ],
   "source": [
    "#segregating Age across 5 groups\n",
    "age_grp = ['0-16', '17-32', '33-48', '49-64', '65-80']\n",
    "train['AgeCat'] = pd.cut(train['Age'], 5)\n",
    "\n",
    "#grouping Age\n",
    "agecalc = train[['AgeCat', 'Survived']].groupby(['AgeCat'], as_index=False).mean()\n",
    "agecalc['Survived'] = agecalc['Survived']*100\n",
    "agecalc['AgeCat'] = age_grp\n",
    "print(agecalc)\n",
    "\n",
    "#plotting graph\n",
    "fig, ax = plt.subplots(figsize=(10,5))\n",
    "plt.rcParams['font.sans-serif'] = 'Arial'\n",
    "plt.rcParams['font.family'] = 'sans-serif'\n",
    "plt.rcParams['text.color'] = '#000000'\n",
    "plt.rcParams['axes.labelcolor']= '#000000'\n",
    "plt.rcParams['xtick.color'] = '#000000'\n",
    "plt.rcParams['ytick.color'] = '#000000'\n",
    "plt.rcParams['font.size']=12\n",
    "\n",
    "sns.despine()\n",
    "sns.set_style(\"white\")\n",
    "sns_agelive = sns.barplot(x='AgeCat', y='Survived', data=agecalc.reset_index(), label=\"AgeCat\", ax=ax)\n",
    "ax.set_title(\"Mean Percentage of Survival - Age Category\", fontsize=15)\n",
    "ax.set_ylabel(\"Survival Rate\")\n",
    "ax.set_xlabel(\"Age Group\")\n",
    "ax.set_xticklabels(age_grp, rotation=45)\n",
    "plt.show()"
   ]
  },
  {
   "cell_type": "markdown",
   "metadata": {
    "papermill": {
     "duration": 0.067706,
     "end_time": "2020-11-08T08:14:19.818537",
     "exception": false,
     "start_time": "2020-11-08T08:14:19.750831",
     "status": "completed"
    },
    "tags": []
   },
   "source": [
    "#### Check Survival Rate Based on Gender"
   ]
  },
  {
   "cell_type": "code",
   "execution_count": 9,
   "metadata": {
    "execution": {
     "iopub.execute_input": "2020-11-08T08:14:19.994633Z",
     "iopub.status.busy": "2020-11-08T08:14:19.977120Z",
     "iopub.status.idle": "2020-11-08T08:14:20.156454Z",
     "shell.execute_reply": "2020-11-08T08:14:20.155812Z"
    },
    "papermill": {
     "duration": 0.269324,
     "end_time": "2020-11-08T08:14:20.156595",
     "exception": false,
     "start_time": "2020-11-08T08:14:19.887271",
     "status": "completed"
    },
    "tags": []
   },
   "outputs": [
    {
     "name": "stdout",
     "output_type": "stream",
     "text": [
      "      Sex   Survived\n",
      "0  female  74.203822\n",
      "1    male  18.890815\n"
     ]
    },
    {
     "data": {
      "image/png": "[encoded data removed]",
      "text/plain": [
       "<Figure size 720x360 with 1 Axes>"
      ]
     },
     "metadata": {},
     "output_type": "display_data"
    }
   ],
   "source": [
    "#grouping Gender\n",
    "sexcalc = train[['Sex', 'Survived']].groupby(['Sex'], as_index=False).mean()\n",
    "sexcalc['Survived'] = sexcalc['Survived']*100\n",
    "print(sexcalc)\n",
    "\n",
    "#plotting graph\n",
    "fig, ax = plt.subplots(figsize=(10,5))\n",
    "plt.rcParams['font.sans-serif'] = 'Arial'\n",
    "plt.rcParams['font.family'] = 'sans-serif'\n",
    "plt.rcParams['text.color'] = '#000000'\n",
    "plt.rcParams['axes.labelcolor']= '#000000'\n",
    "plt.rcParams['xtick.color'] = '#000000'\n",
    "plt.rcParams['ytick.color'] = '#000000'\n",
    "plt.rcParams['font.size']=12\n",
    "\n",
    "sns.despine()\n",
    "sns.set_style(\"white\")\n",
    "sns_agelive = sns.barplot(x='Sex', y='Survived', data=sexcalc.reset_index(), label=\"Sex\", ax=ax)\n",
    "ax.set_title(\"Mean Percentage of Survival - Sex Category\", fontsize=15)\n",
    "ax.set_ylabel(\"Survival Rate\")\n",
    "ax.set_xlabel(\"Sex\")\n",
    "ax.set_xticklabels(sexcalc.Sex, rotation=45)\n",
    "plt.show()"
   ]
  },
  {
   "cell_type": "markdown",
   "metadata": {
    "papermill": {
     "duration": 0.069003,
     "end_time": "2020-11-08T08:14:20.295212",
     "exception": false,
     "start_time": "2020-11-08T08:14:20.226209",
     "status": "completed"
    },
    "tags": []
   },
   "source": [
    "#### Check Survival Rate Based on Passenger Class"
   ]
  },
  {
   "cell_type": "code",
   "execution_count": 10,
   "metadata": {
    "execution": {
     "iopub.execute_input": "2020-11-08T08:14:20.451800Z",
     "iopub.status.busy": "2020-11-08T08:14:20.450474Z",
     "iopub.status.idle": "2020-11-08T08:14:20.637859Z",
     "shell.execute_reply": "2020-11-08T08:14:20.636983Z"
    },
    "papermill": {
     "duration": 0.272106,
     "end_time": "2020-11-08T08:14:20.638015",
     "exception": false,
     "start_time": "2020-11-08T08:14:20.365909",
     "status": "completed"
    },
    "tags": []
   },
   "outputs": [
    {
     "name": "stdout",
     "output_type": "stream",
     "text": [
      "   Pclass   Survived\n",
      "0       1  62.962963\n",
      "1       2  47.282609\n",
      "2       3  24.236253\n"
     ]
    },
    {
     "data": {
      "image/png": "[encoded data removed]",
      "text/plain": [
       "<Figure size 720x360 with 1 Axes>"
      ]
     },
     "metadata": {},
     "output_type": "display_data"
    }
   ],
   "source": [
    "#grouping Passenger Class\n",
    "pclasscalc = train[['Pclass', 'Survived']].groupby(['Pclass'], as_index=False).mean()\n",
    "pclasscalc['Survived'] = pclasscalc['Survived']*100\n",
    "print(pclasscalc)\n",
    "\n",
    "#plotting graph\n",
    "fig, ax = plt.subplots(figsize=(10,5))\n",
    "plt.rcParams['font.sans-serif'] = 'Arial'\n",
    "plt.rcParams['font.family'] = 'sans-serif'\n",
    "plt.rcParams['text.color'] = '#000000'\n",
    "plt.rcParams['axes.labelcolor']= '#000000'\n",
    "plt.rcParams['xtick.color'] = '#000000'\n",
    "plt.rcParams['ytick.color'] = '#000000'\n",
    "plt.rcParams['font.size']=12\n",
    "\n",
    "sns.despine()\n",
    "sns.set_style(\"white\")\n",
    "sns_agelive = sns.barplot(x='Pclass', y='Survived', data=pclasscalc.reset_index(), label=\"Pclass\", ax=ax)\n",
    "ax.set_title(\"Mean Percentage of Survival - Passenger Class Category\", fontsize=15)\n",
    "ax.set_ylabel(\"Survival Rate\")\n",
    "ax.set_xlabel(\"Passenger Class\")\n",
    "ax.set_xticklabels(pclasscalc.Pclass, rotation=45)\n",
    "plt.show()"
   ]
  },
  {
   "cell_type": "markdown",
   "metadata": {
    "papermill": {
     "duration": 0.071026,
     "end_time": "2020-11-08T08:14:20.780501",
     "exception": false,
     "start_time": "2020-11-08T08:14:20.709475",
     "status": "completed"
    },
    "tags": []
   },
   "source": [
    "#### Check Survival Rate Based on Embarkation"
   ]
  },
  {
   "cell_type": "code",
   "execution_count": 11,
   "metadata": {
    "execution": {
     "iopub.execute_input": "2020-11-08T08:14:20.955985Z",
     "iopub.status.busy": "2020-11-08T08:14:20.955161Z",
     "iopub.status.idle": "2020-11-08T08:14:21.135259Z",
     "shell.execute_reply": "2020-11-08T08:14:21.134453Z"
    },
    "papermill": {
     "duration": 0.280801,
     "end_time": "2020-11-08T08:14:21.135397",
     "exception": false,
     "start_time": "2020-11-08T08:14:20.854596",
     "status": "completed"
    },
    "tags": []
   },
   "outputs": [
    {
     "name": "stdout",
     "output_type": "stream",
     "text": [
      "  Embarked   Survived\n",
      "0        C  55.357143\n",
      "1        Q  38.961039\n",
      "2        S  33.695652\n"
     ]
    },
    {
     "data": {
      "image/png": "[encoded data removed]",
      "text/plain": [
       "<Figure size 720x360 with 1 Axes>"
      ]
     },
     "metadata": {},
     "output_type": "display_data"
    }
   ],
   "source": [
    "#grouping Embarked\n",
    "embarkcalc = train[['Embarked', 'Survived']].groupby(['Embarked'], as_index=False).mean()\n",
    "embarkcalc['Survived'] = embarkcalc['Survived']*100\n",
    "print(embarkcalc)\n",
    "\n",
    "#plotting Graph\n",
    "fig, ax = plt.subplots(figsize=(10,5))\n",
    "plt.rcParams['font.sans-serif'] = 'Arial'\n",
    "plt.rcParams['font.family'] = 'sans-serif'\n",
    "plt.rcParams['text.color'] = '#000000'\n",
    "plt.rcParams['axes.labelcolor']= '#000000'\n",
    "plt.rcParams['xtick.color'] = '#000000'\n",
    "plt.rcParams['ytick.color'] = '#000000'\n",
    "plt.rcParams['font.size']=12\n",
    "\n",
    "sns.despine()\n",
    "sns.set_style(\"white\")\n",
    "sns_agelive = sns.barplot(x='Embarked', y='Survived', data=embarkcalc.reset_index(), label=\"Embarked\", ax=ax)\n",
    "ax.set_title(\"Mean Percentage of Survival - Embarked Port Category\", fontsize=15)\n",
    "ax.set_ylabel(\"Survival Rate\")\n",
    "ax.set_xlabel(\"Embarked Port\")\n",
    "ax.set_xticklabels(embarkcalc.Embarked, rotation=45)\n",
    "plt.show()"
   ]
  },
  {
   "cell_type": "markdown",
   "metadata": {
    "papermill": {
     "duration": 0.073423,
     "end_time": "2020-11-08T08:14:21.283148",
     "exception": false,
     "start_time": "2020-11-08T08:14:21.209725",
     "status": "completed"
    },
    "tags": []
   },
   "source": [
    "#### Check Survival Rate Based on Title"
   ]
  },
  {
   "cell_type": "code",
   "execution_count": 12,
   "metadata": {
    "execution": {
     "iopub.execute_input": "2020-11-08T08:14:21.499433Z",
     "iopub.status.busy": "2020-11-08T08:14:21.486770Z",
     "iopub.status.idle": "2020-11-08T08:14:21.711653Z",
     "shell.execute_reply": "2020-11-08T08:14:21.710840Z"
    },
    "papermill": {
     "duration": 0.353393,
     "end_time": "2020-11-08T08:14:21.711796",
     "exception": false,
     "start_time": "2020-11-08T08:14:21.358403",
     "status": "completed"
    },
    "tags": []
   },
   "outputs": [
    {
     "name": "stdout",
     "output_type": "stream",
     "text": [
      "    Title   Survived\n",
      "0  Master  57.500000\n",
      "1    Miss  70.270270\n",
      "2      Mr  15.667311\n",
      "3     Mrs  79.365079\n",
      "4   Other  34.782609\n"
     ]
    },
    {
     "data": {
      "image/png": "[encoded data removed]",
      "text/plain": [
       "<Figure size 720x360 with 1 Axes>"
      ]
     },
     "metadata": {},
     "output_type": "display_data"
    }
   ],
   "source": [
    "#segregating Title across 5 categories\n",
    "for title in data:\n",
    "    data['Title'] = data['Title'].replace(['Lady', 'Countess', 'Capt', 'Col', 'Don', 'Dr', 'Major', 'Rev', 'Sir', 'Jonkheer', 'Dona'], 'Other')\n",
    "    data['Title'] = data['Title'].replace('Mlle', 'Miss')\n",
    "    data['Title'] = data['Title'].replace('Ms', 'Miss')\n",
    "    data['Title'] = data['Title'].replace('Mme', 'Mrs')\n",
    "\n",
    "#grouping Title\n",
    "titlecalc = data[['Title', 'Survived']].groupby(['Title'], as_index=False).mean()\n",
    "titlecalc['Survived'] = titlecalc['Survived']*100\n",
    "print(titlecalc)\n",
    "\n",
    "#plotting Graph\n",
    "fig, ax = plt.subplots(figsize=(10,5))\n",
    "plt.rcParams['font.sans-serif'] = 'Arial'\n",
    "plt.rcParams['font.family'] = 'sans-serif'\n",
    "plt.rcParams['text.color'] = '#000000'\n",
    "plt.rcParams['axes.labelcolor']= '#000000'\n",
    "plt.rcParams['xtick.color'] = '#000000'\n",
    "plt.rcParams['ytick.color'] = '#000000'\n",
    "plt.rcParams['font.size']=12\n",
    "\n",
    "sns.despine()\n",
    "sns.set_style(\"white\")\n",
    "sns_agelive = sns.barplot(x='Title', y='Survived', data=titlecalc.reset_index(), label=\"Embarked\", ax=ax)\n",
    "ax.set_title(\"Mean Percentage of Survival - Title Category\", fontsize=15)\n",
    "ax.set_ylabel(\"Survival Rate\")\n",
    "ax.set_xlabel(\"Title\")\n",
    "ax.set_xticklabels(titlecalc.Title, rotation=45)\n",
    "plt.show()"
   ]
  },
  {
   "cell_type": "markdown",
   "metadata": {
    "papermill": {
     "duration": 0.077135,
     "end_time": "2020-11-08T08:14:21.864499",
     "exception": false,
     "start_time": "2020-11-08T08:14:21.787364",
     "status": "completed"
    },
    "tags": []
   },
   "source": [
    "#### Check Survival Rate Based on Siblings / Spouse"
   ]
  },
  {
   "cell_type": "code",
   "execution_count": 13,
   "metadata": {
    "execution": {
     "iopub.execute_input": "2020-11-08T08:14:22.044718Z",
     "iopub.status.busy": "2020-11-08T08:14:22.037105Z",
     "iopub.status.idle": "2020-11-08T08:14:22.266468Z",
     "shell.execute_reply": "2020-11-08T08:14:22.265690Z"
    },
    "papermill": {
     "duration": 0.327156,
     "end_time": "2020-11-08T08:14:22.266628",
     "exception": false,
     "start_time": "2020-11-08T08:14:21.939472",
     "status": "completed"
    },
    "tags": []
   },
   "outputs": [
    {
     "name": "stdout",
     "output_type": "stream",
     "text": [
      "   SibSp   Survived\n",
      "0      0  34.539474\n",
      "1      1  53.588517\n",
      "2      2  46.428571\n",
      "3      3  25.000000\n",
      "4      4  16.666667\n",
      "5      5   0.000000\n",
      "6      8   0.000000\n"
     ]
    },
    {
     "data": {
      "image/png": "[encoded data removed]",
      "text/plain": [
       "<Figure size 720x360 with 1 Axes>"
      ]
     },
     "metadata": {},
     "output_type": "display_data"
    }
   ],
   "source": [
    "#grouping Sibling/Spouse\n",
    "sibspcalc = train[['SibSp', 'Survived']].groupby(['SibSp'], as_index=False).mean()\n",
    "sibspcalc['Survived'] = sibspcalc['Survived']*100\n",
    "print(sibspcalc)\n",
    "\n",
    "#plotting Graph\n",
    "fig, ax = plt.subplots(figsize=(10,5))\n",
    "plt.rcParams['font.sans-serif'] = 'Arial'\n",
    "plt.rcParams['font.family'] = 'sans-serif'\n",
    "plt.rcParams['text.color'] = '#000000'\n",
    "plt.rcParams['axes.labelcolor']= '#000000'\n",
    "plt.rcParams['xtick.color'] = '#000000'\n",
    "plt.rcParams['ytick.color'] = '#000000'\n",
    "plt.rcParams['font.size']=12\n",
    "\n",
    "sns.despine()\n",
    "sns.set_style(\"white\")\n",
    "sns_agelive = sns.barplot(x='SibSp', y='Survived', data=sibspcalc.reset_index(), label=\"SibSp\", ax=ax)\n",
    "ax.set_title(\"Mean Percentage of Survival - Siblings / Spouse Category\", fontsize=15)\n",
    "ax.set_ylabel(\"Survival Rate\")\n",
    "ax.set_xlabel(\"Sibling / Spouse Present\")\n",
    "ax.set_xticklabels(sibspcalc.SibSp, rotation=45)\n",
    "plt.show()"
   ]
  },
  {
   "cell_type": "markdown",
   "metadata": {
    "papermill": {
     "duration": 0.076342,
     "end_time": "2020-11-08T08:14:22.420267",
     "exception": false,
     "start_time": "2020-11-08T08:14:22.343925",
     "status": "completed"
    },
    "tags": []
   },
   "source": [
    "#### Check Survival Rate Based on Parent / Child"
   ]
  },
  {
   "cell_type": "code",
   "execution_count": 14,
   "metadata": {
    "execution": {
     "iopub.execute_input": "2020-11-08T08:14:22.593755Z",
     "iopub.status.busy": "2020-11-08T08:14:22.592258Z",
     "iopub.status.idle": "2020-11-08T08:14:22.834235Z",
     "shell.execute_reply": "2020-11-08T08:14:22.833556Z"
    },
    "papermill": {
     "duration": 0.336438,
     "end_time": "2020-11-08T08:14:22.834371",
     "exception": false,
     "start_time": "2020-11-08T08:14:22.497933",
     "status": "completed"
    },
    "tags": []
   },
   "outputs": [
    {
     "name": "stdout",
     "output_type": "stream",
     "text": [
      "   Parch   Survived\n",
      "0      0  34.365782\n",
      "1      1  55.084746\n",
      "2      2  50.000000\n",
      "3      3  60.000000\n",
      "4      4   0.000000\n",
      "5      5  20.000000\n",
      "6      6   0.000000\n"
     ]
    },
    {
     "data": {
      "image/png": "[encoded data removed]",
      "text/plain": [
       "<Figure size 720x360 with 1 Axes>"
      ]
     },
     "metadata": {},
     "output_type": "display_data"
    }
   ],
   "source": [
    "#grouping Parent / Child\n",
    "parchcalc = train[['Parch', 'Survived']].groupby(['Parch'], as_index=False).mean()\n",
    "parchcalc['Survived'] = parchcalc['Survived']*100\n",
    "print(parchcalc)\n",
    "\n",
    "#plotting Graph\n",
    "fig, ax = plt.subplots(figsize=(10,5))\n",
    "plt.rcParams['font.sans-serif'] = 'Arial'\n",
    "plt.rcParams['font.family'] = 'sans-serif'\n",
    "plt.rcParams['text.color'] = '#000000'\n",
    "plt.rcParams['axes.labelcolor']= '#000000'\n",
    "plt.rcParams['xtick.color'] = '#000000'\n",
    "plt.rcParams['ytick.color'] = '#000000'\n",
    "plt.rcParams['font.size']=12\n",
    "\n",
    "sns.despine()\n",
    "sns.set_style(\"white\")\n",
    "sns_agelive = sns.barplot(x='Parch', y='Survived', data=parchcalc.reset_index(), label=\"Parch\", ax=ax)\n",
    "ax.set_title(\"Mean Percentage of Survival - Parent / Child Category\", fontsize=15)\n",
    "ax.set_ylabel(\"Survival Rate\")\n",
    "ax.set_xlabel(\"Parent / Child Present\")\n",
    "ax.set_xticklabels(parchcalc.Parch, rotation=45)\n",
    "plt.show()"
   ]
  },
  {
   "cell_type": "markdown",
   "metadata": {
    "papermill": {
     "duration": 0.077234,
     "end_time": "2020-11-08T08:14:23.051407",
     "exception": false,
     "start_time": "2020-11-08T08:14:22.974173",
     "status": "completed"
    },
    "tags": []
   },
   "source": [
    "#### Check Survival Rate Based on Age and Gender"
   ]
  },
  {
   "cell_type": "code",
   "execution_count": 15,
   "metadata": {
    "execution": {
     "iopub.execute_input": "2020-11-08T08:14:23.388278Z",
     "iopub.status.busy": "2020-11-08T08:14:23.383522Z",
     "iopub.status.idle": "2020-11-08T08:14:23.693060Z",
     "shell.execute_reply": "2020-11-08T08:14:23.692223Z"
    },
    "papermill": {
     "duration": 0.564166,
     "end_time": "2020-11-08T08:14:23.693199",
     "exception": false,
     "start_time": "2020-11-08T08:14:23.129033",
     "status": "completed"
    },
    "tags": []
   },
   "outputs": [
    {
     "name": "stdout",
     "output_type": "stream",
     "text": [
      "  AgeCat     Sex   Survived\n",
      "0   0-16  female  67.346939\n",
      "1   0-16    male  43.137255\n",
      "2  17-32  female  73.333333\n",
      "3  17-32    male  17.699115\n",
      "4  33-48  female  79.411765\n",
      "5  33-48    male  18.333333\n",
      "6  49-64  female  91.666667\n",
      "7  49-64    male  17.777778\n",
      "8  65-80  female   0.000000\n",
      "9  65-80    male   9.090909\n"
     ]
    },
    {
     "data": {
      "image/png": "[encoded data removed]",
      "text/plain": [
       "<Figure size 720x360 with 1 Axes>"
      ]
     },
     "metadata": {},
     "output_type": "display_data"
    }
   ],
   "source": [
    "#segregating Age into 5 groups\n",
    "age_grp = ['0-16', '0-16', '17-32', '17-32', '33-48', '33-48', '49-64', '49-64', '65-80', '65-80']\n",
    "train['AgeCat'] = pd.cut(train['Age'], 5)\n",
    "\n",
    "#grouping Age and Gender\n",
    "agesexcalc = train[['AgeCat', 'Sex', 'Survived']].groupby(['AgeCat', 'Sex'], as_index=False).mean()\n",
    "agesexcalc['Survived'] = agesexcalc['Survived']*100\n",
    "agesexcalc['Survived'] = agesexcalc['Survived'].fillna(0)\n",
    "agesexcalc['AgeCat'] = age_grp\n",
    "print(agesexcalc)\n",
    "\n",
    "#plotting Graph\n",
    "fig, ax = plt.subplots(figsize=(10,5))\n",
    "plt.rcParams['font.sans-serif'] = 'Arial'\n",
    "plt.rcParams['font.family'] = 'sans-serif'\n",
    "plt.rcParams['text.color'] = '#000000'\n",
    "plt.rcParams['axes.labelcolor']= '#000000'\n",
    "plt.rcParams['xtick.color'] = '#000000'\n",
    "plt.rcParams['ytick.color'] = '#000000'\n",
    "plt.rcParams['font.size']=12\n",
    "\n",
    "sns.despine()\n",
    "sns.set_style(\"white\")\n",
    "sns_agelive = sns.barplot(x='AgeCat', y='Survived', data=agesexcalc.reset_index(), hue=\"Sex\", ax=ax)\n",
    "ax.set_title(\"Mean Percentage of Survival - Age v Gender Category\", fontsize=15)\n",
    "ax.set_ylabel(\"Survival Rate\")\n",
    "ax.set_xlabel(\"Age\")\n",
    "ax.set_xticklabels(['0-16', '17-32', '33-48', '49-64', '65-80'], rotation=45)\n",
    "plt.show()"
   ]
  },
  {
   "cell_type": "markdown",
   "metadata": {
    "papermill": {
     "duration": 0.081439,
     "end_time": "2020-11-08T08:14:23.856155",
     "exception": false,
     "start_time": "2020-11-08T08:14:23.774716",
     "status": "completed"
    },
    "tags": []
   },
   "source": [
    "#### Check Survival Rate Based on Passenger Class and Gender"
   ]
  },
  {
   "cell_type": "code",
   "execution_count": 16,
   "metadata": {
    "execution": {
     "iopub.execute_input": "2020-11-08T08:14:24.032308Z",
     "iopub.status.busy": "2020-11-08T08:14:24.026782Z",
     "iopub.status.idle": "2020-11-08T08:14:24.265461Z",
     "shell.execute_reply": "2020-11-08T08:14:24.264682Z"
    },
    "papermill": {
     "duration": 0.329148,
     "end_time": "2020-11-08T08:14:24.265619",
     "exception": false,
     "start_time": "2020-11-08T08:14:23.936471",
     "status": "completed"
    },
    "tags": []
   },
   "outputs": [
    {
     "name": "stdout",
     "output_type": "stream",
     "text": [
      "   Pclass     Sex   Survived\n",
      "0       1  female  96.808511\n",
      "1       1    male  36.885246\n",
      "2       2  female  92.105263\n",
      "3       2    male  15.740741\n",
      "4       3  female  50.000000\n",
      "5       3    male  13.544669\n"
     ]
    },
    {
     "data": {
      "image/png": "[encoded data removed]",
      "text/plain": [
       "<Figure size 720x360 with 1 Axes>"
      ]
     },
     "metadata": {},
     "output_type": "display_data"
    }
   ],
   "source": [
    "#grouping by Passenger Class and Gender\n",
    "sexpclasscalc = train[['Pclass', 'Sex', 'Survived']].groupby(['Pclass', 'Sex'], as_index=False).mean()\n",
    "sexpclasscalc['Survived'] = sexpclasscalc['Survived']*100\n",
    "print(sexpclasscalc)\n",
    "\n",
    "#plotting Graph\n",
    "fig, ax = plt.subplots(figsize=(10,5))\n",
    "plt.rcParams['font.sans-serif'] = 'Arial'\n",
    "plt.rcParams['font.family'] = 'sans-serif'\n",
    "plt.rcParams['text.color'] = '#000000'\n",
    "plt.rcParams['axes.labelcolor']= '#000000'\n",
    "plt.rcParams['xtick.color'] = '#000000'\n",
    "plt.rcParams['ytick.color'] = '#000000'\n",
    "plt.rcParams['font.size']=12\n",
    "\n",
    "sns.despine()\n",
    "sns.set_style(\"white\")\n",
    "sns_agelive = sns.barplot(x='Pclass', y='Survived', data=sexpclasscalc.reset_index(), hue=\"Sex\", ax=ax)\n",
    "ax.set_title(\"Mean Percentage of Survival - Passenger Class v Gender Category\", fontsize=15)\n",
    "ax.set_ylabel(\"Survival Rate\")\n",
    "ax.set_xlabel(\"Passenger Class\")\n",
    "ax.set_xticklabels([1, 2, 3], rotation=45)\n",
    "plt.show()"
   ]
  },
  {
   "cell_type": "markdown",
   "metadata": {
    "papermill": {
     "duration": 0.081809,
     "end_time": "2020-11-08T08:14:24.430200",
     "exception": false,
     "start_time": "2020-11-08T08:14:24.348391",
     "status": "completed"
    },
    "tags": []
   },
   "source": [
    "#### Check Survival Rate Based on Embarkation and Gender"
   ]
  },
  {
   "cell_type": "code",
   "execution_count": 17,
   "metadata": {
    "execution": {
     "iopub.execute_input": "2020-11-08T08:14:24.609245Z",
     "iopub.status.busy": "2020-11-08T08:14:24.603574Z",
     "iopub.status.idle": "2020-11-08T08:14:24.838218Z",
     "shell.execute_reply": "2020-11-08T08:14:24.837385Z"
    },
    "papermill": {
     "duration": 0.325236,
     "end_time": "2020-11-08T08:14:24.838361",
     "exception": false,
     "start_time": "2020-11-08T08:14:24.513125",
     "status": "completed"
    },
    "tags": []
   },
   "outputs": [
    {
     "name": "stdout",
     "output_type": "stream",
     "text": [
      "  Embarked     Sex   Survived\n",
      "0        C  female  87.671233\n",
      "1        C    male  30.526316\n",
      "2        Q  female  75.000000\n",
      "3        Q    male   7.317073\n",
      "4        S  female  68.965517\n",
      "5        S    male  17.460317\n"
     ]
    },
    {
     "data": {
      "image/png": "[encoded data removed]",
      "text/plain": [
       "<Figure size 720x360 with 1 Axes>"
      ]
     },
     "metadata": {},
     "output_type": "display_data"
    }
   ],
   "source": [
    "#grouping Embarked and Gender\n",
    "sexembarkcalc = train[['Embarked', 'Sex', 'Survived']].groupby(['Embarked', 'Sex'], as_index=False).mean()\n",
    "sexembarkcalc['Survived'] = sexembarkcalc['Survived']*100\n",
    "print(sexembarkcalc)\n",
    "\n",
    "#plotting Graph\n",
    "fig, ax = plt.subplots(figsize=(10,5))\n",
    "plt.rcParams['font.sans-serif'] = 'Arial'\n",
    "plt.rcParams['font.family'] = 'sans-serif'\n",
    "plt.rcParams['text.color'] = '#000000'\n",
    "plt.rcParams['axes.labelcolor']= '#000000'\n",
    "plt.rcParams['xtick.color'] = '#000000'\n",
    "plt.rcParams['ytick.color'] = '#000000'\n",
    "plt.rcParams['font.size']=12\n",
    "\n",
    "sns.despine()\n",
    "sns.set_style(\"white\")\n",
    "sns_agelive = sns.barplot(x='Embarked', y='Survived', data=sexembarkcalc.reset_index(), hue=\"Sex\", ax=ax)\n",
    "ax.set_title(\"Mean Percentage of Survival - Embarked Port v Gender Category\", fontsize=15)\n",
    "ax.set_ylabel(\"Survival Rate\")\n",
    "ax.set_xlabel(\"Embark Port\")\n",
    "ax.set_xticklabels(['C', 'Q', 'S'], rotation=45)\n",
    "plt.show()"
   ]
  },
  {
   "cell_type": "markdown",
   "metadata": {
    "papermill": {
     "duration": 0.083636,
     "end_time": "2020-11-08T08:14:25.005809",
     "exception": false,
     "start_time": "2020-11-08T08:14:24.922173",
     "status": "completed"
    },
    "tags": []
   },
   "source": [
    "#### Check Survival Rate Based on Sibling / Spouse and Gender"
   ]
  },
  {
   "cell_type": "code",
   "execution_count": 18,
   "metadata": {
    "execution": {
     "iopub.execute_input": "2020-11-08T08:14:25.193296Z",
     "iopub.status.busy": "2020-11-08T08:14:25.192333Z",
     "iopub.status.idle": "2020-11-08T08:14:25.514720Z",
     "shell.execute_reply": "2020-11-08T08:14:25.514101Z"
    },
    "papermill": {
     "duration": 0.425879,
     "end_time": "2020-11-08T08:14:25.514869",
     "exception": false,
     "start_time": "2020-11-08T08:14:25.088990",
     "status": "completed"
    },
    "tags": []
   },
   "outputs": [
    {
     "name": "stdout",
     "output_type": "stream",
     "text": [
      "    SibSp     Sex   Survived\n",
      "0       0  female  78.735632\n",
      "1       0    male  16.820276\n",
      "2       1  female  75.471698\n",
      "3       1    male  31.067961\n",
      "4       2  female  76.923077\n",
      "5       2    male  20.000000\n",
      "6       3  female  36.363636\n",
      "7       3    male   0.000000\n",
      "8       4  female  33.333333\n",
      "9       4    male   8.333333\n",
      "10      5  female   0.000000\n",
      "11      5    male   0.000000\n",
      "12      8  female   0.000000\n",
      "13      8    male   0.000000\n"
     ]
    },
    {
     "data": {
      "image/png": "[encoded data removed]",
      "text/plain": [
       "<Figure size 720x360 with 1 Axes>"
      ]
     },
     "metadata": {},
     "output_type": "display_data"
    }
   ],
   "source": [
    "#grouping Sibling/Spouse and Gender\n",
    "sexsibspcalc = train[['SibSp', 'Sex', 'Survived']].groupby(['SibSp', 'Sex'], as_index=False).mean()\n",
    "sexsibspcalc['Survived'] = sexsibspcalc['Survived']*100\n",
    "print(sexsibspcalc)\n",
    "\n",
    "#plotting Graph\n",
    "fig, ax = plt.subplots(figsize=(10,5))\n",
    "plt.rcParams['font.sans-serif'] = 'Arial'\n",
    "plt.rcParams['font.family'] = 'sans-serif'\n",
    "plt.rcParams['text.color'] = '#000000'\n",
    "plt.rcParams['axes.labelcolor']= '#000000'\n",
    "plt.rcParams['xtick.color'] = '#000000'\n",
    "plt.rcParams['ytick.color'] = '#000000'\n",
    "plt.rcParams['font.size']=12\n",
    "\n",
    "sns.despine()\n",
    "sns.set_style(\"white\")\n",
    "sns_agelive = sns.barplot(x='SibSp', y='Survived', data=sexsibspcalc.reset_index(), hue=\"Sex\", ax=ax)\n",
    "ax.set_title(\"Mean Percentage of Survival - Siblings / Spouse v Gender Category\", fontsize=15)\n",
    "ax.set_ylabel(\"Survival Rate\")\n",
    "ax.set_xlabel(\"Sibling / Spouse\")\n",
    "ax.set_xticklabels([0, 1, 2, 3, 4, 5, 8], rotation=45)\n",
    "plt.show()"
   ]
  },
  {
   "cell_type": "markdown",
   "metadata": {
    "papermill": {
     "duration": 0.085211,
     "end_time": "2020-11-08T08:14:25.685523",
     "exception": false,
     "start_time": "2020-11-08T08:14:25.600312",
     "status": "completed"
    },
    "tags": []
   },
   "source": [
    "#### Check Survival Rate Based on Parent/Child and Gender"
   ]
  },
  {
   "cell_type": "code",
   "execution_count": 19,
   "metadata": {
    "execution": {
     "iopub.execute_input": "2020-11-08T08:14:25.876068Z",
     "iopub.status.busy": "2020-11-08T08:14:25.875181Z",
     "iopub.status.idle": "2020-11-08T08:14:26.222291Z",
     "shell.execute_reply": "2020-11-08T08:14:26.221474Z"
    },
    "papermill": {
     "duration": 0.451302,
     "end_time": "2020-11-08T08:14:26.222431",
     "exception": false,
     "start_time": "2020-11-08T08:14:25.771129",
     "status": "completed"
    },
    "tags": []
   },
   "outputs": [
    {
     "name": "stdout",
     "output_type": "stream",
     "text": [
      "    Parch     Sex   Survived\n",
      "0       0  female  78.865979\n",
      "1       0    male  16.528926\n",
      "2       1  female  76.666667\n",
      "3       1    male  32.758621\n",
      "4       2  female  61.224490\n",
      "5       2    male  32.258065\n",
      "6       3  female  75.000000\n",
      "7       3    male   0.000000\n",
      "8       4  female   0.000000\n",
      "9       4    male   0.000000\n",
      "10      5  female  25.000000\n",
      "11      5    male   0.000000\n",
      "12      6  female   0.000000\n"
     ]
    },
    {
     "data": {
      "image/png": "[encoded data removed]",
      "text/plain": [
       "<Figure size 720x360 with 1 Axes>"
      ]
     },
     "metadata": {},
     "output_type": "display_data"
    }
   ],
   "source": [
    "#grouping Parent/Child and Gender\n",
    "sexparchcalc = train[['Parch', 'Sex', 'Survived']].groupby(['Parch', 'Sex'], as_index=False).mean()\n",
    "sexparchcalc['Survived'] = sexparchcalc['Survived']*100\n",
    "print(sexparchcalc)\n",
    "\n",
    "#plotting Graph\n",
    "fig, ax = plt.subplots(figsize=(10,5))\n",
    "plt.rcParams['font.sans-serif'] = 'Arial'\n",
    "plt.rcParams['font.family'] = 'sans-serif'\n",
    "plt.rcParams['text.color'] = '#000000'\n",
    "plt.rcParams['axes.labelcolor']= '#000000'\n",
    "plt.rcParams['xtick.color'] = '#000000'\n",
    "plt.rcParams['ytick.color'] = '#000000'\n",
    "plt.rcParams['font.size']=12\n",
    "\n",
    "sns.despine()\n",
    "sns.set_style(\"white\")\n",
    "sns_agelive = sns.barplot(x='Parch', y='Survived', data=sexparchcalc.reset_index(), hue=\"Sex\", ax=ax)\n",
    "ax.set_title(\"Mean Percentage of Survival - Parent / Child v Gender Category\", fontsize=15)\n",
    "ax.set_ylabel(\"Survival Rate\")\n",
    "ax.set_xlabel(\"Parent / Child\")\n",
    "ax.set_xticklabels([0, 1, 2, 3, 4, 5, 6], rotation=45)\n",
    "plt.show()"
   ]
  },
  {
   "cell_type": "markdown",
   "metadata": {
    "papermill": {
     "duration": 0.088856,
     "end_time": "2020-11-08T08:14:26.399583",
     "exception": false,
     "start_time": "2020-11-08T08:14:26.310727",
     "status": "completed"
    },
    "tags": []
   },
   "source": [
    "With this we complete our analysis section. Now that we have a brief understanding of the data present, it is time to mould and engineer the data in a way that makes it easier for predictions."
   ]
  },
  {
   "cell_type": "markdown",
   "metadata": {
    "papermill": {
     "duration": 0.087128,
     "end_time": "2020-11-08T08:14:26.575373",
     "exception": false,
     "start_time": "2020-11-08T08:14:26.488245",
     "status": "completed"
    },
    "tags": []
   },
   "source": [
    "### Wrangling, Cleaning and Engineering our Dataset"
   ]
  },
  {
   "cell_type": "markdown",
   "metadata": {
    "papermill": {
     "duration": 0.089817,
     "end_time": "2020-11-08T08:14:26.753978",
     "exception": false,
     "start_time": "2020-11-08T08:14:26.664161",
     "status": "completed"
    },
    "tags": []
   },
   "source": [
    "The best way to represent the dataset is to represent it in numerical form. So, for every unique value in a dataset, we assign it a number. "
   ]
  },
  {
   "cell_type": "markdown",
   "metadata": {
    "papermill": {
     "duration": 0.090433,
     "end_time": "2020-11-08T08:14:26.934233",
     "exception": false,
     "start_time": "2020-11-08T08:14:26.843800",
     "status": "completed"
    },
    "tags": []
   },
   "source": [
    "Survived has two values 0 and 1. They are already in numeric form.\n",
    "\n",
    "Pclass, SibSp and Parch are also represented in numeric form. \n",
    "\n",
    "Sex has two values, male and female. This column can be presented in the form of 0 and 1.\n",
    "\n",
    "Embarked has three values, C, Q and S. This column can be presented in the form of 0, 1 and 2.\n",
    " \n",
    "Age and Title are two such categories where there is a bit of feature engineering required. "
   ]
  },
  {
   "cell_type": "markdown",
   "metadata": {
    "papermill": {
     "duration": 0.090532,
     "end_time": "2020-11-08T08:14:27.118177",
     "exception": false,
     "start_time": "2020-11-08T08:14:27.027645",
     "status": "completed"
    },
    "tags": []
   },
   "source": [
    "#### Mapping Title to Numerical Values"
   ]
  },
  {
   "cell_type": "code",
   "execution_count": 20,
   "metadata": {
    "execution": {
     "iopub.execute_input": "2020-11-08T08:14:27.313242Z",
     "iopub.status.busy": "2020-11-08T08:14:27.303571Z",
     "iopub.status.idle": "2020-11-08T08:14:27.328091Z",
     "shell.execute_reply": "2020-11-08T08:14:27.327367Z"
    },
    "papermill": {
     "duration": 0.121482,
     "end_time": "2020-11-08T08:14:27.328231",
     "exception": false,
     "start_time": "2020-11-08T08:14:27.206749",
     "status": "completed"
    },
    "tags": []
   },
   "outputs": [
    {
     "data": {
      "text/html": [
       "<div>\n",
       "<style scoped>\n",
       "    .dataframe tbody tr th:only-of-type {\n",
       "        vertical-align: middle;\n",
       "    }\n",
       "\n",
       "    .dataframe tbody tr th {\n",
       "        vertical-align: top;\n",
       "    }\n",
       "\n",
       "    .dataframe thead th {\n",
       "        text-align: right;\n",
       "    }\n",
       "</style>\n",
       "<table border=\"1\" class=\"dataframe\">\n",
       "  <thead>\n",
       "    <tr style=\"text-align: right;\">\n",
       "      <th></th>\n",
       "      <th>Survived</th>\n",
       "      <th>Pclass</th>\n",
       "      <th>Sex</th>\n",
       "      <th>Age</th>\n",
       "      <th>SibSp</th>\n",
       "      <th>Parch</th>\n",
       "      <th>Fare</th>\n",
       "      <th>Embarked</th>\n",
       "      <th>Title</th>\n",
       "    </tr>\n",
       "  </thead>\n",
       "  <tbody>\n",
       "    <tr>\n",
       "      <th>0</th>\n",
       "      <td>0.0</td>\n",
       "      <td>3</td>\n",
       "      <td>male</td>\n",
       "      <td>22.0</td>\n",
       "      <td>1</td>\n",
       "      <td>0</td>\n",
       "      <td>7.2500</td>\n",
       "      <td>S</td>\n",
       "      <td>1</td>\n",
       "    </tr>\n",
       "    <tr>\n",
       "      <th>1</th>\n",
       "      <td>1.0</td>\n",
       "      <td>1</td>\n",
       "      <td>female</td>\n",
       "      <td>38.0</td>\n",
       "      <td>1</td>\n",
       "      <td>0</td>\n",
       "      <td>71.2833</td>\n",
       "      <td>C</td>\n",
       "      <td>3</td>\n",
       "    </tr>\n",
       "    <tr>\n",
       "      <th>2</th>\n",
       "      <td>1.0</td>\n",
       "      <td>3</td>\n",
       "      <td>female</td>\n",
       "      <td>26.0</td>\n",
       "      <td>0</td>\n",
       "      <td>0</td>\n",
       "      <td>7.9250</td>\n",
       "      <td>S</td>\n",
       "      <td>2</td>\n",
       "    </tr>\n",
       "    <tr>\n",
       "      <th>3</th>\n",
       "      <td>1.0</td>\n",
       "      <td>1</td>\n",
       "      <td>female</td>\n",
       "      <td>35.0</td>\n",
       "      <td>1</td>\n",
       "      <td>0</td>\n",
       "      <td>53.1000</td>\n",
       "      <td>S</td>\n",
       "      <td>3</td>\n",
       "    </tr>\n",
       "    <tr>\n",
       "      <th>4</th>\n",
       "      <td>0.0</td>\n",
       "      <td>3</td>\n",
       "      <td>male</td>\n",
       "      <td>35.0</td>\n",
       "      <td>0</td>\n",
       "      <td>0</td>\n",
       "      <td>8.0500</td>\n",
       "      <td>S</td>\n",
       "      <td>1</td>\n",
       "    </tr>\n",
       "    <tr>\n",
       "      <th>5</th>\n",
       "      <td>0.0</td>\n",
       "      <td>3</td>\n",
       "      <td>male</td>\n",
       "      <td>NaN</td>\n",
       "      <td>0</td>\n",
       "      <td>0</td>\n",
       "      <td>8.4583</td>\n",
       "      <td>Q</td>\n",
       "      <td>1</td>\n",
       "    </tr>\n",
       "    <tr>\n",
       "      <th>6</th>\n",
       "      <td>0.0</td>\n",
       "      <td>1</td>\n",
       "      <td>male</td>\n",
       "      <td>54.0</td>\n",
       "      <td>0</td>\n",
       "      <td>0</td>\n",
       "      <td>51.8625</td>\n",
       "      <td>S</td>\n",
       "      <td>1</td>\n",
       "    </tr>\n",
       "    <tr>\n",
       "      <th>7</th>\n",
       "      <td>0.0</td>\n",
       "      <td>3</td>\n",
       "      <td>male</td>\n",
       "      <td>2.0</td>\n",
       "      <td>3</td>\n",
       "      <td>1</td>\n",
       "      <td>21.0750</td>\n",
       "      <td>S</td>\n",
       "      <td>4</td>\n",
       "    </tr>\n",
       "    <tr>\n",
       "      <th>8</th>\n",
       "      <td>1.0</td>\n",
       "      <td>3</td>\n",
       "      <td>female</td>\n",
       "      <td>27.0</td>\n",
       "      <td>0</td>\n",
       "      <td>2</td>\n",
       "      <td>11.1333</td>\n",
       "      <td>S</td>\n",
       "      <td>3</td>\n",
       "    </tr>\n",
       "    <tr>\n",
       "      <th>9</th>\n",
       "      <td>1.0</td>\n",
       "      <td>2</td>\n",
       "      <td>female</td>\n",
       "      <td>14.0</td>\n",
       "      <td>1</td>\n",
       "      <td>0</td>\n",
       "      <td>30.0708</td>\n",
       "      <td>C</td>\n",
       "      <td>3</td>\n",
       "    </tr>\n",
       "  </tbody>\n",
       "</table>\n",
       "</div>"
      ],
      "text/plain": [
       "   Survived  Pclass     Sex   Age  SibSp  Parch     Fare Embarked  Title\n",
       "0       0.0       3    male  22.0      1      0   7.2500        S      1\n",
       "1       1.0       1  female  38.0      1      0  71.2833        C      3\n",
       "2       1.0       3  female  26.0      0      0   7.9250        S      2\n",
       "3       1.0       1  female  35.0      1      0  53.1000        S      3\n",
       "4       0.0       3    male  35.0      0      0   8.0500        S      1\n",
       "5       0.0       3    male   NaN      0      0   8.4583        Q      1\n",
       "6       0.0       1    male  54.0      0      0  51.8625        S      1\n",
       "7       0.0       3    male   2.0      3      1  21.0750        S      4\n",
       "8       1.0       3  female  27.0      0      2  11.1333        S      3\n",
       "9       1.0       2  female  14.0      1      0  30.0708        C      3"
      ]
     },
     "execution_count": 20,
     "metadata": {},
     "output_type": "execute_result"
    }
   ],
   "source": [
    "title_mapping = {\"Mr\": 1, \"Miss\": 2, \"Mrs\": 3, \"Master\": 4, \"Other\": 5}\n",
    "data[\"Title\"] = data['Title'].map(title_mapping)\n",
    "data['Title'].fillna(data['Title'].dropna().median(), inplace=True)\n",
    "data.head(10)"
   ]
  },
  {
   "cell_type": "markdown",
   "metadata": {
    "papermill": {
     "duration": 0.08818,
     "end_time": "2020-11-08T08:14:27.504943",
     "exception": false,
     "start_time": "2020-11-08T08:14:27.416763",
     "status": "completed"
    },
    "tags": []
   },
   "source": [
    "#### Mapping Gender to Numerical Values"
   ]
  },
  {
   "cell_type": "code",
   "execution_count": 21,
   "metadata": {
    "execution": {
     "iopub.execute_input": "2020-11-08T08:14:27.703373Z",
     "iopub.status.busy": "2020-11-08T08:14:27.702227Z",
     "iopub.status.idle": "2020-11-08T08:14:27.708153Z",
     "shell.execute_reply": "2020-11-08T08:14:27.707351Z"
    },
    "papermill": {
     "duration": 0.115708,
     "end_time": "2020-11-08T08:14:27.708291",
     "exception": false,
     "start_time": "2020-11-08T08:14:27.592583",
     "status": "completed"
    },
    "tags": []
   },
   "outputs": [
    {
     "data": {
      "text/html": [
       "<div>\n",
       "<style scoped>\n",
       "    .dataframe tbody tr th:only-of-type {\n",
       "        vertical-align: middle;\n",
       "    }\n",
       "\n",
       "    .dataframe tbody tr th {\n",
       "        vertical-align: top;\n",
       "    }\n",
       "\n",
       "    .dataframe thead th {\n",
       "        text-align: right;\n",
       "    }\n",
       "</style>\n",
       "<table border=\"1\" class=\"dataframe\">\n",
       "  <thead>\n",
       "    <tr style=\"text-align: right;\">\n",
       "      <th></th>\n",
       "      <th>Survived</th>\n",
       "      <th>Pclass</th>\n",
       "      <th>Sex</th>\n",
       "      <th>Age</th>\n",
       "      <th>SibSp</th>\n",
       "      <th>Parch</th>\n",
       "      <th>Fare</th>\n",
       "      <th>Embarked</th>\n",
       "      <th>Title</th>\n",
       "    </tr>\n",
       "  </thead>\n",
       "  <tbody>\n",
       "    <tr>\n",
       "      <th>0</th>\n",
       "      <td>0.0</td>\n",
       "      <td>3</td>\n",
       "      <td>0</td>\n",
       "      <td>22.0</td>\n",
       "      <td>1</td>\n",
       "      <td>0</td>\n",
       "      <td>7.2500</td>\n",
       "      <td>S</td>\n",
       "      <td>1</td>\n",
       "    </tr>\n",
       "    <tr>\n",
       "      <th>1</th>\n",
       "      <td>1.0</td>\n",
       "      <td>1</td>\n",
       "      <td>1</td>\n",
       "      <td>38.0</td>\n",
       "      <td>1</td>\n",
       "      <td>0</td>\n",
       "      <td>71.2833</td>\n",
       "      <td>C</td>\n",
       "      <td>3</td>\n",
       "    </tr>\n",
       "    <tr>\n",
       "      <th>2</th>\n",
       "      <td>1.0</td>\n",
       "      <td>3</td>\n",
       "      <td>1</td>\n",
       "      <td>26.0</td>\n",
       "      <td>0</td>\n",
       "      <td>0</td>\n",
       "      <td>7.9250</td>\n",
       "      <td>S</td>\n",
       "      <td>2</td>\n",
       "    </tr>\n",
       "    <tr>\n",
       "      <th>3</th>\n",
       "      <td>1.0</td>\n",
       "      <td>1</td>\n",
       "      <td>1</td>\n",
       "      <td>35.0</td>\n",
       "      <td>1</td>\n",
       "      <td>0</td>\n",
       "      <td>53.1000</td>\n",
       "      <td>S</td>\n",
       "      <td>3</td>\n",
       "    </tr>\n",
       "    <tr>\n",
       "      <th>4</th>\n",
       "      <td>0.0</td>\n",
       "      <td>3</td>\n",
       "      <td>0</td>\n",
       "      <td>35.0</td>\n",
       "      <td>0</td>\n",
       "      <td>0</td>\n",
       "      <td>8.0500</td>\n",
       "      <td>S</td>\n",
       "      <td>1</td>\n",
       "    </tr>\n",
       "    <tr>\n",
       "      <th>5</th>\n",
       "      <td>0.0</td>\n",
       "      <td>3</td>\n",
       "      <td>0</td>\n",
       "      <td>NaN</td>\n",
       "      <td>0</td>\n",
       "      <td>0</td>\n",
       "      <td>8.4583</td>\n",
       "      <td>Q</td>\n",
       "      <td>1</td>\n",
       "    </tr>\n",
       "    <tr>\n",
       "      <th>6</th>\n",
       "      <td>0.0</td>\n",
       "      <td>1</td>\n",
       "      <td>0</td>\n",
       "      <td>54.0</td>\n",
       "      <td>0</td>\n",
       "      <td>0</td>\n",
       "      <td>51.8625</td>\n",
       "      <td>S</td>\n",
       "      <td>1</td>\n",
       "    </tr>\n",
       "    <tr>\n",
       "      <th>7</th>\n",
       "      <td>0.0</td>\n",
       "      <td>3</td>\n",
       "      <td>0</td>\n",
       "      <td>2.0</td>\n",
       "      <td>3</td>\n",
       "      <td>1</td>\n",
       "      <td>21.0750</td>\n",
       "      <td>S</td>\n",
       "      <td>4</td>\n",
       "    </tr>\n",
       "    <tr>\n",
       "      <th>8</th>\n",
       "      <td>1.0</td>\n",
       "      <td>3</td>\n",
       "      <td>1</td>\n",
       "      <td>27.0</td>\n",
       "      <td>0</td>\n",
       "      <td>2</td>\n",
       "      <td>11.1333</td>\n",
       "      <td>S</td>\n",
       "      <td>3</td>\n",
       "    </tr>\n",
       "    <tr>\n",
       "      <th>9</th>\n",
       "      <td>1.0</td>\n",
       "      <td>2</td>\n",
       "      <td>1</td>\n",
       "      <td>14.0</td>\n",
       "      <td>1</td>\n",
       "      <td>0</td>\n",
       "      <td>30.0708</td>\n",
       "      <td>C</td>\n",
       "      <td>3</td>\n",
       "    </tr>\n",
       "  </tbody>\n",
       "</table>\n",
       "</div>"
      ],
      "text/plain": [
       "   Survived  Pclass  Sex   Age  SibSp  Parch     Fare Embarked  Title\n",
       "0       0.0       3    0  22.0      1      0   7.2500        S      1\n",
       "1       1.0       1    1  38.0      1      0  71.2833        C      3\n",
       "2       1.0       3    1  26.0      0      0   7.9250        S      2\n",
       "3       1.0       1    1  35.0      1      0  53.1000        S      3\n",
       "4       0.0       3    0  35.0      0      0   8.0500        S      1\n",
       "5       0.0       3    0   NaN      0      0   8.4583        Q      1\n",
       "6       0.0       1    0  54.0      0      0  51.8625        S      1\n",
       "7       0.0       3    0   2.0      3      1  21.0750        S      4\n",
       "8       1.0       3    1  27.0      0      2  11.1333        S      3\n",
       "9       1.0       2    1  14.0      1      0  30.0708        C      3"
      ]
     },
     "execution_count": 21,
     "metadata": {},
     "output_type": "execute_result"
    }
   ],
   "source": [
    "data['Sex'] = data['Sex'].map( {'female': 1, 'male': 0} ).astype(int)\n",
    "data.head(10)"
   ]
  },
  {
   "cell_type": "markdown",
   "metadata": {
    "papermill": {
     "duration": 0.088901,
     "end_time": "2020-11-08T08:14:27.887004",
     "exception": false,
     "start_time": "2020-11-08T08:14:27.798103",
     "status": "completed"
    },
    "tags": []
   },
   "source": [
    "#### Mapping Age to Numerical Values"
   ]
  },
  {
   "cell_type": "code",
   "execution_count": 22,
   "metadata": {
    "execution": {
     "iopub.execute_input": "2020-11-08T08:14:28.098379Z",
     "iopub.status.busy": "2020-11-08T08:14:28.079128Z",
     "iopub.status.idle": "2020-11-08T08:14:28.103996Z",
     "shell.execute_reply": "2020-11-08T08:14:28.103299Z"
    },
    "papermill": {
     "duration": 0.127173,
     "end_time": "2020-11-08T08:14:28.104131",
     "exception": false,
     "start_time": "2020-11-08T08:14:27.976958",
     "status": "completed"
    },
    "tags": []
   },
   "outputs": [
    {
     "data": {
      "text/html": [
       "<div>\n",
       "<style scoped>\n",
       "    .dataframe tbody tr th:only-of-type {\n",
       "        vertical-align: middle;\n",
       "    }\n",
       "\n",
       "    .dataframe tbody tr th {\n",
       "        vertical-align: top;\n",
       "    }\n",
       "\n",
       "    .dataframe thead th {\n",
       "        text-align: right;\n",
       "    }\n",
       "</style>\n",
       "<table border=\"1\" class=\"dataframe\">\n",
       "  <thead>\n",
       "    <tr style=\"text-align: right;\">\n",
       "      <th></th>\n",
       "      <th>Survived</th>\n",
       "      <th>Pclass</th>\n",
       "      <th>Sex</th>\n",
       "      <th>Age</th>\n",
       "      <th>SibSp</th>\n",
       "      <th>Parch</th>\n",
       "      <th>Fare</th>\n",
       "      <th>Embarked</th>\n",
       "      <th>Title</th>\n",
       "    </tr>\n",
       "  </thead>\n",
       "  <tbody>\n",
       "    <tr>\n",
       "      <th>0</th>\n",
       "      <td>0.0</td>\n",
       "      <td>3</td>\n",
       "      <td>0</td>\n",
       "      <td>1.0</td>\n",
       "      <td>1</td>\n",
       "      <td>0</td>\n",
       "      <td>7.2500</td>\n",
       "      <td>S</td>\n",
       "      <td>1</td>\n",
       "    </tr>\n",
       "    <tr>\n",
       "      <th>1</th>\n",
       "      <td>1.0</td>\n",
       "      <td>1</td>\n",
       "      <td>1</td>\n",
       "      <td>2.0</td>\n",
       "      <td>1</td>\n",
       "      <td>0</td>\n",
       "      <td>71.2833</td>\n",
       "      <td>C</td>\n",
       "      <td>3</td>\n",
       "    </tr>\n",
       "    <tr>\n",
       "      <th>2</th>\n",
       "      <td>1.0</td>\n",
       "      <td>3</td>\n",
       "      <td>1</td>\n",
       "      <td>1.0</td>\n",
       "      <td>0</td>\n",
       "      <td>0</td>\n",
       "      <td>7.9250</td>\n",
       "      <td>S</td>\n",
       "      <td>2</td>\n",
       "    </tr>\n",
       "    <tr>\n",
       "      <th>3</th>\n",
       "      <td>1.0</td>\n",
       "      <td>1</td>\n",
       "      <td>1</td>\n",
       "      <td>2.0</td>\n",
       "      <td>1</td>\n",
       "      <td>0</td>\n",
       "      <td>53.1000</td>\n",
       "      <td>S</td>\n",
       "      <td>3</td>\n",
       "    </tr>\n",
       "    <tr>\n",
       "      <th>4</th>\n",
       "      <td>0.0</td>\n",
       "      <td>3</td>\n",
       "      <td>0</td>\n",
       "      <td>2.0</td>\n",
       "      <td>0</td>\n",
       "      <td>0</td>\n",
       "      <td>8.0500</td>\n",
       "      <td>S</td>\n",
       "      <td>1</td>\n",
       "    </tr>\n",
       "    <tr>\n",
       "      <th>5</th>\n",
       "      <td>0.0</td>\n",
       "      <td>3</td>\n",
       "      <td>0</td>\n",
       "      <td>1.0</td>\n",
       "      <td>0</td>\n",
       "      <td>0</td>\n",
       "      <td>8.4583</td>\n",
       "      <td>Q</td>\n",
       "      <td>1</td>\n",
       "    </tr>\n",
       "    <tr>\n",
       "      <th>6</th>\n",
       "      <td>0.0</td>\n",
       "      <td>1</td>\n",
       "      <td>0</td>\n",
       "      <td>3.0</td>\n",
       "      <td>0</td>\n",
       "      <td>0</td>\n",
       "      <td>51.8625</td>\n",
       "      <td>S</td>\n",
       "      <td>1</td>\n",
       "    </tr>\n",
       "    <tr>\n",
       "      <th>7</th>\n",
       "      <td>0.0</td>\n",
       "      <td>3</td>\n",
       "      <td>0</td>\n",
       "      <td>0.0</td>\n",
       "      <td>3</td>\n",
       "      <td>1</td>\n",
       "      <td>21.0750</td>\n",
       "      <td>S</td>\n",
       "      <td>4</td>\n",
       "    </tr>\n",
       "    <tr>\n",
       "      <th>8</th>\n",
       "      <td>1.0</td>\n",
       "      <td>3</td>\n",
       "      <td>1</td>\n",
       "      <td>1.0</td>\n",
       "      <td>0</td>\n",
       "      <td>2</td>\n",
       "      <td>11.1333</td>\n",
       "      <td>S</td>\n",
       "      <td>3</td>\n",
       "    </tr>\n",
       "    <tr>\n",
       "      <th>9</th>\n",
       "      <td>1.0</td>\n",
       "      <td>2</td>\n",
       "      <td>1</td>\n",
       "      <td>0.0</td>\n",
       "      <td>1</td>\n",
       "      <td>0</td>\n",
       "      <td>30.0708</td>\n",
       "      <td>C</td>\n",
       "      <td>3</td>\n",
       "    </tr>\n",
       "  </tbody>\n",
       "</table>\n",
       "</div>"
      ],
      "text/plain": [
       "   Survived  Pclass  Sex  Age  SibSp  Parch     Fare Embarked  Title\n",
       "0       0.0       3    0  1.0      1      0   7.2500        S      1\n",
       "1       1.0       1    1  2.0      1      0  71.2833        C      3\n",
       "2       1.0       3    1  1.0      0      0   7.9250        S      2\n",
       "3       1.0       1    1  2.0      1      0  53.1000        S      3\n",
       "4       0.0       3    0  2.0      0      0   8.0500        S      1\n",
       "5       0.0       3    0  1.0      0      0   8.4583        Q      1\n",
       "6       0.0       1    0  3.0      0      0  51.8625        S      1\n",
       "7       0.0       3    0  0.0      3      1  21.0750        S      4\n",
       "8       1.0       3    1  1.0      0      2  11.1333        S      3\n",
       "9       1.0       2    1  0.0      1      0  30.0708        C      3"
      ]
     },
     "execution_count": 22,
     "metadata": {},
     "output_type": "execute_result"
    }
   ],
   "source": [
    "data['Age'].fillna(data['Age'].dropna().median(), inplace=True)\n",
    "data.loc[ data['Age'] <= 16, 'Age'] = 0\n",
    "data.loc[(data['Age'] > 16) & (data['Age'] <= 32), 'Age'] = 1\n",
    "data.loc[(data['Age'] > 32) & (data['Age'] <= 48), 'Age'] = 2\n",
    "data.loc[(data['Age'] > 48) & (data['Age'] <= 64), 'Age'] = 3\n",
    "data.loc[ data['Age'] > 64, 'Age'] = 4\n",
    "data.head(10)"
   ]
  },
  {
   "cell_type": "markdown",
   "metadata": {
    "papermill": {
     "duration": 0.089236,
     "end_time": "2020-11-08T08:14:28.284500",
     "exception": false,
     "start_time": "2020-11-08T08:14:28.195264",
     "status": "completed"
    },
    "tags": []
   },
   "source": [
    "#### Mapping Embarked to Numerical Values"
   ]
  },
  {
   "cell_type": "code",
   "execution_count": 23,
   "metadata": {
    "execution": {
     "iopub.execute_input": "2020-11-08T08:14:28.477046Z",
     "iopub.status.busy": "2020-11-08T08:14:28.474695Z",
     "iopub.status.idle": "2020-11-08T08:14:28.496137Z",
     "shell.execute_reply": "2020-11-08T08:14:28.495479Z"
    },
    "papermill": {
     "duration": 0.121425,
     "end_time": "2020-11-08T08:14:28.496290",
     "exception": false,
     "start_time": "2020-11-08T08:14:28.374865",
     "status": "completed"
    },
    "tags": []
   },
   "outputs": [
    {
     "data": {
      "text/html": [
       "<div>\n",
       "<style scoped>\n",
       "    .dataframe tbody tr th:only-of-type {\n",
       "        vertical-align: middle;\n",
       "    }\n",
       "\n",
       "    .dataframe tbody tr th {\n",
       "        vertical-align: top;\n",
       "    }\n",
       "\n",
       "    .dataframe thead th {\n",
       "        text-align: right;\n",
       "    }\n",
       "</style>\n",
       "<table border=\"1\" class=\"dataframe\">\n",
       "  <thead>\n",
       "    <tr style=\"text-align: right;\">\n",
       "      <th></th>\n",
       "      <th>Survived</th>\n",
       "      <th>Pclass</th>\n",
       "      <th>Sex</th>\n",
       "      <th>Age</th>\n",
       "      <th>SibSp</th>\n",
       "      <th>Parch</th>\n",
       "      <th>Fare</th>\n",
       "      <th>Embarked</th>\n",
       "      <th>Title</th>\n",
       "    </tr>\n",
       "  </thead>\n",
       "  <tbody>\n",
       "    <tr>\n",
       "      <th>0</th>\n",
       "      <td>0.0</td>\n",
       "      <td>3</td>\n",
       "      <td>0</td>\n",
       "      <td>1.0</td>\n",
       "      <td>1</td>\n",
       "      <td>0</td>\n",
       "      <td>7.2500</td>\n",
       "      <td>0.0</td>\n",
       "      <td>1</td>\n",
       "    </tr>\n",
       "    <tr>\n",
       "      <th>1</th>\n",
       "      <td>1.0</td>\n",
       "      <td>1</td>\n",
       "      <td>1</td>\n",
       "      <td>2.0</td>\n",
       "      <td>1</td>\n",
       "      <td>0</td>\n",
       "      <td>71.2833</td>\n",
       "      <td>1.0</td>\n",
       "      <td>3</td>\n",
       "    </tr>\n",
       "    <tr>\n",
       "      <th>2</th>\n",
       "      <td>1.0</td>\n",
       "      <td>3</td>\n",
       "      <td>1</td>\n",
       "      <td>1.0</td>\n",
       "      <td>0</td>\n",
       "      <td>0</td>\n",
       "      <td>7.9250</td>\n",
       "      <td>0.0</td>\n",
       "      <td>2</td>\n",
       "    </tr>\n",
       "    <tr>\n",
       "      <th>3</th>\n",
       "      <td>1.0</td>\n",
       "      <td>1</td>\n",
       "      <td>1</td>\n",
       "      <td>2.0</td>\n",
       "      <td>1</td>\n",
       "      <td>0</td>\n",
       "      <td>53.1000</td>\n",
       "      <td>0.0</td>\n",
       "      <td>3</td>\n",
       "    </tr>\n",
       "    <tr>\n",
       "      <th>4</th>\n",
       "      <td>0.0</td>\n",
       "      <td>3</td>\n",
       "      <td>0</td>\n",
       "      <td>2.0</td>\n",
       "      <td>0</td>\n",
       "      <td>0</td>\n",
       "      <td>8.0500</td>\n",
       "      <td>0.0</td>\n",
       "      <td>1</td>\n",
       "    </tr>\n",
       "    <tr>\n",
       "      <th>5</th>\n",
       "      <td>0.0</td>\n",
       "      <td>3</td>\n",
       "      <td>0</td>\n",
       "      <td>1.0</td>\n",
       "      <td>0</td>\n",
       "      <td>0</td>\n",
       "      <td>8.4583</td>\n",
       "      <td>2.0</td>\n",
       "      <td>1</td>\n",
       "    </tr>\n",
       "    <tr>\n",
       "      <th>6</th>\n",
       "      <td>0.0</td>\n",
       "      <td>1</td>\n",
       "      <td>0</td>\n",
       "      <td>3.0</td>\n",
       "      <td>0</td>\n",
       "      <td>0</td>\n",
       "      <td>51.8625</td>\n",
       "      <td>0.0</td>\n",
       "      <td>1</td>\n",
       "    </tr>\n",
       "    <tr>\n",
       "      <th>7</th>\n",
       "      <td>0.0</td>\n",
       "      <td>3</td>\n",
       "      <td>0</td>\n",
       "      <td>0.0</td>\n",
       "      <td>3</td>\n",
       "      <td>1</td>\n",
       "      <td>21.0750</td>\n",
       "      <td>0.0</td>\n",
       "      <td>4</td>\n",
       "    </tr>\n",
       "    <tr>\n",
       "      <th>8</th>\n",
       "      <td>1.0</td>\n",
       "      <td>3</td>\n",
       "      <td>1</td>\n",
       "      <td>1.0</td>\n",
       "      <td>0</td>\n",
       "      <td>2</td>\n",
       "      <td>11.1333</td>\n",
       "      <td>0.0</td>\n",
       "      <td>3</td>\n",
       "    </tr>\n",
       "    <tr>\n",
       "      <th>9</th>\n",
       "      <td>1.0</td>\n",
       "      <td>2</td>\n",
       "      <td>1</td>\n",
       "      <td>0.0</td>\n",
       "      <td>1</td>\n",
       "      <td>0</td>\n",
       "      <td>30.0708</td>\n",
       "      <td>1.0</td>\n",
       "      <td>3</td>\n",
       "    </tr>\n",
       "  </tbody>\n",
       "</table>\n",
       "</div>"
      ],
      "text/plain": [
       "   Survived  Pclass  Sex  Age  SibSp  Parch     Fare  Embarked  Title\n",
       "0       0.0       3    0  1.0      1      0   7.2500       0.0      1\n",
       "1       1.0       1    1  2.0      1      0  71.2833       1.0      3\n",
       "2       1.0       3    1  1.0      0      0   7.9250       0.0      2\n",
       "3       1.0       1    1  2.0      1      0  53.1000       0.0      3\n",
       "4       0.0       3    0  2.0      0      0   8.0500       0.0      1\n",
       "5       0.0       3    0  1.0      0      0   8.4583       2.0      1\n",
       "6       0.0       1    0  3.0      0      0  51.8625       0.0      1\n",
       "7       0.0       3    0  0.0      3      1  21.0750       0.0      4\n",
       "8       1.0       3    1  1.0      0      2  11.1333       0.0      3\n",
       "9       1.0       2    1  0.0      1      0  30.0708       1.0      3"
      ]
     },
     "execution_count": 23,
     "metadata": {},
     "output_type": "execute_result"
    }
   ],
   "source": [
    "data[\"Embarked\"] = data['Embarked'].map( {'S': 0, 'C': 1, 'Q': 2} )\n",
    "data['Embarked'] = data[\"Embarked\"].fillna(0)\n",
    "data.head(10)"
   ]
  },
  {
   "cell_type": "markdown",
   "metadata": {
    "papermill": {
     "duration": 0.09018,
     "end_time": "2020-11-08T08:14:28.677179",
     "exception": false,
     "start_time": "2020-11-08T08:14:28.586999",
     "status": "completed"
    },
    "tags": []
   },
   "source": [
    "#### Mapping Fare to Numerical Values"
   ]
  },
  {
   "cell_type": "code",
   "execution_count": 24,
   "metadata": {
    "execution": {
     "iopub.execute_input": "2020-11-08T08:14:28.879112Z",
     "iopub.status.busy": "2020-11-08T08:14:28.872873Z",
     "iopub.status.idle": "2020-11-08T08:14:28.900743Z",
     "shell.execute_reply": "2020-11-08T08:14:28.900059Z"
    },
    "papermill": {
     "duration": 0.132519,
     "end_time": "2020-11-08T08:14:28.900893",
     "exception": false,
     "start_time": "2020-11-08T08:14:28.768374",
     "status": "completed"
    },
    "tags": []
   },
   "outputs": [
    {
     "data": {
      "text/html": [
       "<div>\n",
       "<style scoped>\n",
       "    .dataframe tbody tr th:only-of-type {\n",
       "        vertical-align: middle;\n",
       "    }\n",
       "\n",
       "    .dataframe tbody tr th {\n",
       "        vertical-align: top;\n",
       "    }\n",
       "\n",
       "    .dataframe thead th {\n",
       "        text-align: right;\n",
       "    }\n",
       "</style>\n",
       "<table border=\"1\" class=\"dataframe\">\n",
       "  <thead>\n",
       "    <tr style=\"text-align: right;\">\n",
       "      <th></th>\n",
       "      <th>Survived</th>\n",
       "      <th>Pclass</th>\n",
       "      <th>Sex</th>\n",
       "      <th>Age</th>\n",
       "      <th>SibSp</th>\n",
       "      <th>Parch</th>\n",
       "      <th>Fare</th>\n",
       "      <th>Embarked</th>\n",
       "      <th>Title</th>\n",
       "    </tr>\n",
       "  </thead>\n",
       "  <tbody>\n",
       "    <tr>\n",
       "      <th>0</th>\n",
       "      <td>0.0</td>\n",
       "      <td>3</td>\n",
       "      <td>0</td>\n",
       "      <td>1.0</td>\n",
       "      <td>1</td>\n",
       "      <td>0</td>\n",
       "      <td>0</td>\n",
       "      <td>0.0</td>\n",
       "      <td>1</td>\n",
       "    </tr>\n",
       "    <tr>\n",
       "      <th>1</th>\n",
       "      <td>1.0</td>\n",
       "      <td>1</td>\n",
       "      <td>1</td>\n",
       "      <td>2.0</td>\n",
       "      <td>1</td>\n",
       "      <td>0</td>\n",
       "      <td>3</td>\n",
       "      <td>1.0</td>\n",
       "      <td>3</td>\n",
       "    </tr>\n",
       "    <tr>\n",
       "      <th>2</th>\n",
       "      <td>1.0</td>\n",
       "      <td>3</td>\n",
       "      <td>1</td>\n",
       "      <td>1.0</td>\n",
       "      <td>0</td>\n",
       "      <td>0</td>\n",
       "      <td>1</td>\n",
       "      <td>0.0</td>\n",
       "      <td>2</td>\n",
       "    </tr>\n",
       "    <tr>\n",
       "      <th>3</th>\n",
       "      <td>1.0</td>\n",
       "      <td>1</td>\n",
       "      <td>1</td>\n",
       "      <td>2.0</td>\n",
       "      <td>1</td>\n",
       "      <td>0</td>\n",
       "      <td>3</td>\n",
       "      <td>0.0</td>\n",
       "      <td>3</td>\n",
       "    </tr>\n",
       "    <tr>\n",
       "      <th>4</th>\n",
       "      <td>0.0</td>\n",
       "      <td>3</td>\n",
       "      <td>0</td>\n",
       "      <td>2.0</td>\n",
       "      <td>0</td>\n",
       "      <td>0</td>\n",
       "      <td>1</td>\n",
       "      <td>0.0</td>\n",
       "      <td>1</td>\n",
       "    </tr>\n",
       "    <tr>\n",
       "      <th>5</th>\n",
       "      <td>0.0</td>\n",
       "      <td>3</td>\n",
       "      <td>0</td>\n",
       "      <td>1.0</td>\n",
       "      <td>0</td>\n",
       "      <td>0</td>\n",
       "      <td>1</td>\n",
       "      <td>2.0</td>\n",
       "      <td>1</td>\n",
       "    </tr>\n",
       "    <tr>\n",
       "      <th>6</th>\n",
       "      <td>0.0</td>\n",
       "      <td>1</td>\n",
       "      <td>0</td>\n",
       "      <td>3.0</td>\n",
       "      <td>0</td>\n",
       "      <td>0</td>\n",
       "      <td>3</td>\n",
       "      <td>0.0</td>\n",
       "      <td>1</td>\n",
       "    </tr>\n",
       "    <tr>\n",
       "      <th>7</th>\n",
       "      <td>0.0</td>\n",
       "      <td>3</td>\n",
       "      <td>0</td>\n",
       "      <td>0.0</td>\n",
       "      <td>3</td>\n",
       "      <td>1</td>\n",
       "      <td>2</td>\n",
       "      <td>0.0</td>\n",
       "      <td>4</td>\n",
       "    </tr>\n",
       "    <tr>\n",
       "      <th>8</th>\n",
       "      <td>1.0</td>\n",
       "      <td>3</td>\n",
       "      <td>1</td>\n",
       "      <td>1.0</td>\n",
       "      <td>0</td>\n",
       "      <td>2</td>\n",
       "      <td>1</td>\n",
       "      <td>0.0</td>\n",
       "      <td>3</td>\n",
       "    </tr>\n",
       "    <tr>\n",
       "      <th>9</th>\n",
       "      <td>1.0</td>\n",
       "      <td>2</td>\n",
       "      <td>1</td>\n",
       "      <td>0.0</td>\n",
       "      <td>1</td>\n",
       "      <td>0</td>\n",
       "      <td>2</td>\n",
       "      <td>1.0</td>\n",
       "      <td>3</td>\n",
       "    </tr>\n",
       "  </tbody>\n",
       "</table>\n",
       "</div>"
      ],
      "text/plain": [
       "   Survived  Pclass  Sex  Age  SibSp  Parch  Fare  Embarked  Title\n",
       "0       0.0       3    0  1.0      1      0     0       0.0      1\n",
       "1       1.0       1    1  2.0      1      0     3       1.0      3\n",
       "2       1.0       3    1  1.0      0      0     1       0.0      2\n",
       "3       1.0       1    1  2.0      1      0     3       0.0      3\n",
       "4       0.0       3    0  2.0      0      0     1       0.0      1\n",
       "5       0.0       3    0  1.0      0      0     1       2.0      1\n",
       "6       0.0       1    0  3.0      0      0     3       0.0      1\n",
       "7       0.0       3    0  0.0      3      1     2       0.0      4\n",
       "8       1.0       3    1  1.0      0      2     1       0.0      3\n",
       "9       1.0       2    1  0.0      1      0     2       1.0      3"
      ]
     },
     "execution_count": 24,
     "metadata": {},
     "output_type": "execute_result"
    }
   ],
   "source": [
    "data['Fare'].fillna(data['Fare'].dropna().median(), inplace=True)\n",
    "data.loc[ data['Fare'] <= 7.91, 'Fare'] = 0\n",
    "data.loc[(data['Fare'] > 7.91) & (data['Fare'] <= 14.454), 'Fare'] = 1\n",
    "data.loc[(data['Fare'] > 14.454) & (data['Fare'] <= 31), 'Fare']   = 2\n",
    "data.loc[ data['Fare'] > 31, 'Fare'] = 3\n",
    "data['Fare'] = data['Fare'].astype(int)\n",
    "data.head(10)"
   ]
  },
  {
   "cell_type": "markdown",
   "metadata": {
    "papermill": {
     "duration": 0.113281,
     "end_time": "2020-11-08T08:14:29.117527",
     "exception": false,
     "start_time": "2020-11-08T08:14:29.004246",
     "status": "completed"
    },
    "tags": []
   },
   "source": [
    "#### Mapping IsAlone to Numerical Values"
   ]
  },
  {
   "cell_type": "code",
   "execution_count": 25,
   "metadata": {
    "execution": {
     "iopub.execute_input": "2020-11-08T08:14:29.315213Z",
     "iopub.status.busy": "2020-11-08T08:14:29.314347Z",
     "iopub.status.idle": "2020-11-08T08:14:29.334672Z",
     "shell.execute_reply": "2020-11-08T08:14:29.334035Z"
    },
    "papermill": {
     "duration": 0.123432,
     "end_time": "2020-11-08T08:14:29.334804",
     "exception": false,
     "start_time": "2020-11-08T08:14:29.211372",
     "status": "completed"
    },
    "tags": []
   },
   "outputs": [
    {
     "data": {
      "text/html": [
       "<div>\n",
       "<style scoped>\n",
       "    .dataframe tbody tr th:only-of-type {\n",
       "        vertical-align: middle;\n",
       "    }\n",
       "\n",
       "    .dataframe tbody tr th {\n",
       "        vertical-align: top;\n",
       "    }\n",
       "\n",
       "    .dataframe thead th {\n",
       "        text-align: right;\n",
       "    }\n",
       "</style>\n",
       "<table border=\"1\" class=\"dataframe\">\n",
       "  <thead>\n",
       "    <tr style=\"text-align: right;\">\n",
       "      <th></th>\n",
       "      <th>Survived</th>\n",
       "      <th>Pclass</th>\n",
       "      <th>Sex</th>\n",
       "      <th>Age</th>\n",
       "      <th>SibSp</th>\n",
       "      <th>Parch</th>\n",
       "      <th>Fare</th>\n",
       "      <th>Embarked</th>\n",
       "      <th>Title</th>\n",
       "      <th>IsAlone</th>\n",
       "      <th>FamilySize</th>\n",
       "    </tr>\n",
       "  </thead>\n",
       "  <tbody>\n",
       "    <tr>\n",
       "      <th>0</th>\n",
       "      <td>0.0</td>\n",
       "      <td>3</td>\n",
       "      <td>0</td>\n",
       "      <td>1.0</td>\n",
       "      <td>1</td>\n",
       "      <td>0</td>\n",
       "      <td>0</td>\n",
       "      <td>0.0</td>\n",
       "      <td>1</td>\n",
       "      <td>0</td>\n",
       "      <td>2</td>\n",
       "    </tr>\n",
       "    <tr>\n",
       "      <th>1</th>\n",
       "      <td>1.0</td>\n",
       "      <td>1</td>\n",
       "      <td>1</td>\n",
       "      <td>2.0</td>\n",
       "      <td>1</td>\n",
       "      <td>0</td>\n",
       "      <td>3</td>\n",
       "      <td>1.0</td>\n",
       "      <td>3</td>\n",
       "      <td>0</td>\n",
       "      <td>2</td>\n",
       "    </tr>\n",
       "    <tr>\n",
       "      <th>2</th>\n",
       "      <td>1.0</td>\n",
       "      <td>3</td>\n",
       "      <td>1</td>\n",
       "      <td>1.0</td>\n",
       "      <td>0</td>\n",
       "      <td>0</td>\n",
       "      <td>1</td>\n",
       "      <td>0.0</td>\n",
       "      <td>2</td>\n",
       "      <td>1</td>\n",
       "      <td>1</td>\n",
       "    </tr>\n",
       "    <tr>\n",
       "      <th>3</th>\n",
       "      <td>1.0</td>\n",
       "      <td>1</td>\n",
       "      <td>1</td>\n",
       "      <td>2.0</td>\n",
       "      <td>1</td>\n",
       "      <td>0</td>\n",
       "      <td>3</td>\n",
       "      <td>0.0</td>\n",
       "      <td>3</td>\n",
       "      <td>0</td>\n",
       "      <td>2</td>\n",
       "    </tr>\n",
       "    <tr>\n",
       "      <th>4</th>\n",
       "      <td>0.0</td>\n",
       "      <td>3</td>\n",
       "      <td>0</td>\n",
       "      <td>2.0</td>\n",
       "      <td>0</td>\n",
       "      <td>0</td>\n",
       "      <td>1</td>\n",
       "      <td>0.0</td>\n",
       "      <td>1</td>\n",
       "      <td>1</td>\n",
       "      <td>1</td>\n",
       "    </tr>\n",
       "    <tr>\n",
       "      <th>5</th>\n",
       "      <td>0.0</td>\n",
       "      <td>3</td>\n",
       "      <td>0</td>\n",
       "      <td>1.0</td>\n",
       "      <td>0</td>\n",
       "      <td>0</td>\n",
       "      <td>1</td>\n",
       "      <td>2.0</td>\n",
       "      <td>1</td>\n",
       "      <td>1</td>\n",
       "      <td>1</td>\n",
       "    </tr>\n",
       "    <tr>\n",
       "      <th>6</th>\n",
       "      <td>0.0</td>\n",
       "      <td>1</td>\n",
       "      <td>0</td>\n",
       "      <td>3.0</td>\n",
       "      <td>0</td>\n",
       "      <td>0</td>\n",
       "      <td>3</td>\n",
       "      <td>0.0</td>\n",
       "      <td>1</td>\n",
       "      <td>1</td>\n",
       "      <td>1</td>\n",
       "    </tr>\n",
       "    <tr>\n",
       "      <th>7</th>\n",
       "      <td>0.0</td>\n",
       "      <td>3</td>\n",
       "      <td>0</td>\n",
       "      <td>0.0</td>\n",
       "      <td>3</td>\n",
       "      <td>1</td>\n",
       "      <td>2</td>\n",
       "      <td>0.0</td>\n",
       "      <td>4</td>\n",
       "      <td>0</td>\n",
       "      <td>5</td>\n",
       "    </tr>\n",
       "    <tr>\n",
       "      <th>8</th>\n",
       "      <td>1.0</td>\n",
       "      <td>3</td>\n",
       "      <td>1</td>\n",
       "      <td>1.0</td>\n",
       "      <td>0</td>\n",
       "      <td>2</td>\n",
       "      <td>1</td>\n",
       "      <td>0.0</td>\n",
       "      <td>3</td>\n",
       "      <td>0</td>\n",
       "      <td>3</td>\n",
       "    </tr>\n",
       "    <tr>\n",
       "      <th>9</th>\n",
       "      <td>1.0</td>\n",
       "      <td>2</td>\n",
       "      <td>1</td>\n",
       "      <td>0.0</td>\n",
       "      <td>1</td>\n",
       "      <td>0</td>\n",
       "      <td>2</td>\n",
       "      <td>1.0</td>\n",
       "      <td>3</td>\n",
       "      <td>0</td>\n",
       "      <td>2</td>\n",
       "    </tr>\n",
       "  </tbody>\n",
       "</table>\n",
       "</div>"
      ],
      "text/plain": [
       "   Survived  Pclass  Sex  Age  SibSp  Parch  Fare  Embarked  Title  IsAlone  \\\n",
       "0       0.0       3    0  1.0      1      0     0       0.0      1        0   \n",
       "1       1.0       1    1  2.0      1      0     3       1.0      3        0   \n",
       "2       1.0       3    1  1.0      0      0     1       0.0      2        1   \n",
       "3       1.0       1    1  2.0      1      0     3       0.0      3        0   \n",
       "4       0.0       3    0  2.0      0      0     1       0.0      1        1   \n",
       "5       0.0       3    0  1.0      0      0     1       2.0      1        1   \n",
       "6       0.0       1    0  3.0      0      0     3       0.0      1        1   \n",
       "7       0.0       3    0  0.0      3      1     2       0.0      4        0   \n",
       "8       1.0       3    1  1.0      0      2     1       0.0      3        0   \n",
       "9       1.0       2    1  0.0      1      0     2       1.0      3        0   \n",
       "\n",
       "   FamilySize  \n",
       "0           2  \n",
       "1           2  \n",
       "2           1  \n",
       "3           2  \n",
       "4           1  \n",
       "5           1  \n",
       "6           1  \n",
       "7           5  \n",
       "8           3  \n",
       "9           2  "
      ]
     },
     "execution_count": 25,
     "metadata": {},
     "output_type": "execute_result"
    }
   ],
   "source": [
    "data['IsAlone'] = 0\n",
    "data['FamilySize'] = data['SibSp'] + data['Parch'] + 1\n",
    "data.loc[data['FamilySize'] == 1, 'IsAlone'] = 1\n",
    "data.head(10)"
   ]
  },
  {
   "cell_type": "markdown",
   "metadata": {
    "papermill": {
     "duration": 0.093493,
     "end_time": "2020-11-08T08:14:29.523012",
     "exception": false,
     "start_time": "2020-11-08T08:14:29.429519",
     "status": "completed"
    },
    "tags": []
   },
   "source": [
    "#### Cleaning Remainder Data"
   ]
  },
  {
   "cell_type": "code",
   "execution_count": 26,
   "metadata": {
    "execution": {
     "iopub.execute_input": "2020-11-08T08:14:29.733201Z",
     "iopub.status.busy": "2020-11-08T08:14:29.717936Z",
     "iopub.status.idle": "2020-11-08T08:14:29.738357Z",
     "shell.execute_reply": "2020-11-08T08:14:29.737582Z"
    },
    "papermill": {
     "duration": 0.12315,
     "end_time": "2020-11-08T08:14:29.738502",
     "exception": false,
     "start_time": "2020-11-08T08:14:29.615352",
     "status": "completed"
    },
    "tags": []
   },
   "outputs": [
    {
     "data": {
      "text/html": [
       "<div>\n",
       "<style scoped>\n",
       "    .dataframe tbody tr th:only-of-type {\n",
       "        vertical-align: middle;\n",
       "    }\n",
       "\n",
       "    .dataframe tbody tr th {\n",
       "        vertical-align: top;\n",
       "    }\n",
       "\n",
       "    .dataframe thead th {\n",
       "        text-align: right;\n",
       "    }\n",
       "</style>\n",
       "<table border=\"1\" class=\"dataframe\">\n",
       "  <thead>\n",
       "    <tr style=\"text-align: right;\">\n",
       "      <th></th>\n",
       "      <th>Survived</th>\n",
       "      <th>Pclass</th>\n",
       "      <th>Sex</th>\n",
       "      <th>Age</th>\n",
       "      <th>Fare</th>\n",
       "      <th>Embarked</th>\n",
       "      <th>Title</th>\n",
       "      <th>IsAlone</th>\n",
       "      <th>FamilySize</th>\n",
       "    </tr>\n",
       "  </thead>\n",
       "  <tbody>\n",
       "    <tr>\n",
       "      <th>0</th>\n",
       "      <td>0.0</td>\n",
       "      <td>3</td>\n",
       "      <td>0</td>\n",
       "      <td>1</td>\n",
       "      <td>0</td>\n",
       "      <td>0</td>\n",
       "      <td>1</td>\n",
       "      <td>0</td>\n",
       "      <td>2</td>\n",
       "    </tr>\n",
       "    <tr>\n",
       "      <th>1</th>\n",
       "      <td>1.0</td>\n",
       "      <td>1</td>\n",
       "      <td>1</td>\n",
       "      <td>2</td>\n",
       "      <td>3</td>\n",
       "      <td>1</td>\n",
       "      <td>3</td>\n",
       "      <td>0</td>\n",
       "      <td>2</td>\n",
       "    </tr>\n",
       "    <tr>\n",
       "      <th>2</th>\n",
       "      <td>1.0</td>\n",
       "      <td>3</td>\n",
       "      <td>1</td>\n",
       "      <td>1</td>\n",
       "      <td>1</td>\n",
       "      <td>0</td>\n",
       "      <td>2</td>\n",
       "      <td>1</td>\n",
       "      <td>1</td>\n",
       "    </tr>\n",
       "    <tr>\n",
       "      <th>3</th>\n",
       "      <td>1.0</td>\n",
       "      <td>1</td>\n",
       "      <td>1</td>\n",
       "      <td>2</td>\n",
       "      <td>3</td>\n",
       "      <td>0</td>\n",
       "      <td>3</td>\n",
       "      <td>0</td>\n",
       "      <td>2</td>\n",
       "    </tr>\n",
       "    <tr>\n",
       "      <th>4</th>\n",
       "      <td>0.0</td>\n",
       "      <td>3</td>\n",
       "      <td>0</td>\n",
       "      <td>2</td>\n",
       "      <td>1</td>\n",
       "      <td>0</td>\n",
       "      <td>1</td>\n",
       "      <td>1</td>\n",
       "      <td>1</td>\n",
       "    </tr>\n",
       "    <tr>\n",
       "      <th>...</th>\n",
       "      <td>...</td>\n",
       "      <td>...</td>\n",
       "      <td>...</td>\n",
       "      <td>...</td>\n",
       "      <td>...</td>\n",
       "      <td>...</td>\n",
       "      <td>...</td>\n",
       "      <td>...</td>\n",
       "      <td>...</td>\n",
       "    </tr>\n",
       "    <tr>\n",
       "      <th>413</th>\n",
       "      <td>NaN</td>\n",
       "      <td>3</td>\n",
       "      <td>0</td>\n",
       "      <td>1</td>\n",
       "      <td>1</td>\n",
       "      <td>0</td>\n",
       "      <td>1</td>\n",
       "      <td>1</td>\n",
       "      <td>1</td>\n",
       "    </tr>\n",
       "    <tr>\n",
       "      <th>414</th>\n",
       "      <td>NaN</td>\n",
       "      <td>1</td>\n",
       "      <td>1</td>\n",
       "      <td>2</td>\n",
       "      <td>3</td>\n",
       "      <td>1</td>\n",
       "      <td>5</td>\n",
       "      <td>1</td>\n",
       "      <td>1</td>\n",
       "    </tr>\n",
       "    <tr>\n",
       "      <th>415</th>\n",
       "      <td>NaN</td>\n",
       "      <td>3</td>\n",
       "      <td>0</td>\n",
       "      <td>2</td>\n",
       "      <td>0</td>\n",
       "      <td>0</td>\n",
       "      <td>1</td>\n",
       "      <td>1</td>\n",
       "      <td>1</td>\n",
       "    </tr>\n",
       "    <tr>\n",
       "      <th>416</th>\n",
       "      <td>NaN</td>\n",
       "      <td>3</td>\n",
       "      <td>0</td>\n",
       "      <td>1</td>\n",
       "      <td>1</td>\n",
       "      <td>0</td>\n",
       "      <td>1</td>\n",
       "      <td>1</td>\n",
       "      <td>1</td>\n",
       "    </tr>\n",
       "    <tr>\n",
       "      <th>417</th>\n",
       "      <td>NaN</td>\n",
       "      <td>3</td>\n",
       "      <td>0</td>\n",
       "      <td>1</td>\n",
       "      <td>2</td>\n",
       "      <td>1</td>\n",
       "      <td>4</td>\n",
       "      <td>0</td>\n",
       "      <td>3</td>\n",
       "    </tr>\n",
       "  </tbody>\n",
       "</table>\n",
       "<p>1309 rows × 9 columns</p>\n",
       "</div>"
      ],
      "text/plain": [
       "     Survived  Pclass  Sex  Age  Fare  Embarked  Title  IsAlone  FamilySize\n",
       "0         0.0       3    0    1     0         0      1        0           2\n",
       "1         1.0       1    1    2     3         1      3        0           2\n",
       "2         1.0       3    1    1     1         0      2        1           1\n",
       "3         1.0       1    1    2     3         0      3        0           2\n",
       "4         0.0       3    0    2     1         0      1        1           1\n",
       "..        ...     ...  ...  ...   ...       ...    ...      ...         ...\n",
       "413       NaN       3    0    1     1         0      1        1           1\n",
       "414       NaN       1    1    2     3         1      5        1           1\n",
       "415       NaN       3    0    2     0         0      1        1           1\n",
       "416       NaN       3    0    1     1         0      1        1           1\n",
       "417       NaN       3    0    1     2         1      4        0           3\n",
       "\n",
       "[1309 rows x 9 columns]"
      ]
     },
     "execution_count": 26,
     "metadata": {},
     "output_type": "execute_result"
    }
   ],
   "source": [
    "data['Embarked'] = data['Embarked'].astype(int)\n",
    "data['Title'] = data['Title'].astype(int)\n",
    "data['Age'] = data['Age'].astype(int)\n",
    "data = data.drop(['SibSp', 'Parch'], axis = 1)\n",
    "data"
   ]
  },
  {
   "cell_type": "markdown",
   "metadata": {
    "papermill": {
     "duration": 0.103861,
     "end_time": "2020-11-08T08:14:29.943858",
     "exception": false,
     "start_time": "2020-11-08T08:14:29.839997",
     "status": "completed"
    },
    "tags": []
   },
   "source": [
    "Now that we have seen how the cleaned data will look like, we arrive at a slight dilemma. The \"data\" in question is a combination of the train and test datasets. \n",
    "\n",
    "Since we have done all our operations on data, it as not been reflected in the train and test datasets. We require the train and test datasets to reflect the same data as that is what will be used in the machine learning models. \n",
    "\n",
    "Hence, we will apply the above mapping and cleaning operations to both, the train and the test data. "
   ]
  },
  {
   "cell_type": "code",
   "execution_count": 27,
   "metadata": {
    "execution": {
     "iopub.execute_input": "2020-11-08T08:14:30.154025Z",
     "iopub.status.busy": "2020-11-08T08:14:30.152655Z",
     "iopub.status.idle": "2020-11-08T08:14:30.156356Z",
     "shell.execute_reply": "2020-11-08T08:14:30.155452Z"
    },
    "papermill": {
     "duration": 0.110189,
     "end_time": "2020-11-08T08:14:30.156541",
     "exception": false,
     "start_time": "2020-11-08T08:14:30.046352",
     "status": "completed"
    },
    "tags": []
   },
   "outputs": [],
   "source": [
    "data = [train, test]"
   ]
  },
  {
   "cell_type": "markdown",
   "metadata": {
    "papermill": {
     "duration": 0.09489,
     "end_time": "2020-11-08T08:14:30.352137",
     "exception": false,
     "start_time": "2020-11-08T08:14:30.257247",
     "status": "completed"
    },
    "tags": []
   },
   "source": [
    "#### Cleaning and Mapping Train Dataset"
   ]
  },
  {
   "cell_type": "code",
   "execution_count": 28,
   "metadata": {
    "execution": {
     "iopub.execute_input": "2020-11-08T08:14:30.638643Z",
     "iopub.status.busy": "2020-11-08T08:14:30.608947Z",
     "iopub.status.idle": "2020-11-08T08:14:30.674072Z",
     "shell.execute_reply": "2020-11-08T08:14:30.673346Z"
    },
    "papermill": {
     "duration": 0.224707,
     "end_time": "2020-11-08T08:14:30.674214",
     "exception": false,
     "start_time": "2020-11-08T08:14:30.449507",
     "status": "completed"
    },
    "tags": []
   },
   "outputs": [
    {
     "data": {
      "text/html": [
       "<div>\n",
       "<style scoped>\n",
       "    .dataframe tbody tr th:only-of-type {\n",
       "        vertical-align: middle;\n",
       "    }\n",
       "\n",
       "    .dataframe tbody tr th {\n",
       "        vertical-align: top;\n",
       "    }\n",
       "\n",
       "    .dataframe thead th {\n",
       "        text-align: right;\n",
       "    }\n",
       "</style>\n",
       "<table border=\"1\" class=\"dataframe\">\n",
       "  <thead>\n",
       "    <tr style=\"text-align: right;\">\n",
       "      <th></th>\n",
       "      <th>Survived</th>\n",
       "      <th>Pclass</th>\n",
       "      <th>Sex</th>\n",
       "      <th>Age</th>\n",
       "      <th>Fare</th>\n",
       "      <th>Embarked</th>\n",
       "      <th>Title</th>\n",
       "      <th>IsAlone</th>\n",
       "      <th>FamilySize</th>\n",
       "    </tr>\n",
       "  </thead>\n",
       "  <tbody>\n",
       "    <tr>\n",
       "      <th>0</th>\n",
       "      <td>0</td>\n",
       "      <td>3</td>\n",
       "      <td>0</td>\n",
       "      <td>1</td>\n",
       "      <td>0</td>\n",
       "      <td>0</td>\n",
       "      <td>1</td>\n",
       "      <td>0</td>\n",
       "      <td>2</td>\n",
       "    </tr>\n",
       "    <tr>\n",
       "      <th>1</th>\n",
       "      <td>1</td>\n",
       "      <td>1</td>\n",
       "      <td>1</td>\n",
       "      <td>2</td>\n",
       "      <td>3</td>\n",
       "      <td>1</td>\n",
       "      <td>3</td>\n",
       "      <td>0</td>\n",
       "      <td>2</td>\n",
       "    </tr>\n",
       "    <tr>\n",
       "      <th>2</th>\n",
       "      <td>1</td>\n",
       "      <td>3</td>\n",
       "      <td>1</td>\n",
       "      <td>1</td>\n",
       "      <td>1</td>\n",
       "      <td>0</td>\n",
       "      <td>2</td>\n",
       "      <td>1</td>\n",
       "      <td>1</td>\n",
       "    </tr>\n",
       "    <tr>\n",
       "      <th>3</th>\n",
       "      <td>1</td>\n",
       "      <td>1</td>\n",
       "      <td>1</td>\n",
       "      <td>2</td>\n",
       "      <td>3</td>\n",
       "      <td>0</td>\n",
       "      <td>3</td>\n",
       "      <td>0</td>\n",
       "      <td>2</td>\n",
       "    </tr>\n",
       "    <tr>\n",
       "      <th>4</th>\n",
       "      <td>0</td>\n",
       "      <td>3</td>\n",
       "      <td>0</td>\n",
       "      <td>2</td>\n",
       "      <td>1</td>\n",
       "      <td>0</td>\n",
       "      <td>1</td>\n",
       "      <td>1</td>\n",
       "      <td>1</td>\n",
       "    </tr>\n",
       "    <tr>\n",
       "      <th>5</th>\n",
       "      <td>0</td>\n",
       "      <td>3</td>\n",
       "      <td>0</td>\n",
       "      <td>1</td>\n",
       "      <td>1</td>\n",
       "      <td>2</td>\n",
       "      <td>1</td>\n",
       "      <td>1</td>\n",
       "      <td>1</td>\n",
       "    </tr>\n",
       "    <tr>\n",
       "      <th>6</th>\n",
       "      <td>0</td>\n",
       "      <td>1</td>\n",
       "      <td>0</td>\n",
       "      <td>3</td>\n",
       "      <td>3</td>\n",
       "      <td>0</td>\n",
       "      <td>1</td>\n",
       "      <td>1</td>\n",
       "      <td>1</td>\n",
       "    </tr>\n",
       "    <tr>\n",
       "      <th>7</th>\n",
       "      <td>0</td>\n",
       "      <td>3</td>\n",
       "      <td>0</td>\n",
       "      <td>0</td>\n",
       "      <td>2</td>\n",
       "      <td>0</td>\n",
       "      <td>4</td>\n",
       "      <td>0</td>\n",
       "      <td>5</td>\n",
       "    </tr>\n",
       "    <tr>\n",
       "      <th>8</th>\n",
       "      <td>1</td>\n",
       "      <td>3</td>\n",
       "      <td>1</td>\n",
       "      <td>1</td>\n",
       "      <td>1</td>\n",
       "      <td>0</td>\n",
       "      <td>3</td>\n",
       "      <td>0</td>\n",
       "      <td>3</td>\n",
       "    </tr>\n",
       "    <tr>\n",
       "      <th>9</th>\n",
       "      <td>1</td>\n",
       "      <td>2</td>\n",
       "      <td>1</td>\n",
       "      <td>0</td>\n",
       "      <td>2</td>\n",
       "      <td>1</td>\n",
       "      <td>3</td>\n",
       "      <td>0</td>\n",
       "      <td>2</td>\n",
       "    </tr>\n",
       "  </tbody>\n",
       "</table>\n",
       "</div>"
      ],
      "text/plain": [
       "   Survived  Pclass  Sex  Age  Fare  Embarked  Title  IsAlone  FamilySize\n",
       "0         0       3    0    1     0         0      1        0           2\n",
       "1         1       1    1    2     3         1      3        0           2\n",
       "2         1       3    1    1     1         0      2        1           1\n",
       "3         1       1    1    2     3         0      3        0           2\n",
       "4         0       3    0    2     1         0      1        1           1\n",
       "5         0       3    0    1     1         2      1        1           1\n",
       "6         0       1    0    3     3         0      1        1           1\n",
       "7         0       3    0    0     2         0      4        0           5\n",
       "8         1       3    1    1     1         0      3        0           3\n",
       "9         1       2    1    0     2         1      3        0           2"
      ]
     },
     "execution_count": 28,
     "metadata": {},
     "output_type": "execute_result"
    }
   ],
   "source": [
    "#mapping Title\n",
    "for title in data:\n",
    "    train['Title'] = train['Name'].str.extract(' ([A-Za-z]+)\\.', expand=False)\n",
    "for title in test:\n",
    "    train['Title'] = train['Title'].replace(['Lady', 'Countess', 'Capt', 'Col', 'Don', 'Dr', 'Major', 'Rev', 'Sir', 'Jonkheer', 'Dona'], 'Other')\n",
    "    train['Title'] = train['Title'].replace('Mlle', 'Miss')\n",
    "    train['Title'] = train['Title'].replace('Ms', 'Miss')\n",
    "    train['Title'] = train['Title'].replace('Mme', 'Mrs')\n",
    "    title_mapping = {\"Mr\": 1, \"Miss\": 2, \"Mrs\": 3, \"Master\": 4, \"Other\": 5}\n",
    "train[\"Title\"] = train['Title'].map(title_mapping)\n",
    "train['Title'].fillna(train['Title'].dropna().median(), inplace=True)\n",
    "\n",
    "#mapping Sex\n",
    "train['Sex'] = train['Sex'].map( {'female': 1, 'male': 0} )\n",
    "train['Sex'].fillna(train['Sex'].dropna().median(), inplace=True)\n",
    "train['Sex'] = train['Sex'].astype(int)\n",
    "\n",
    "#mapping Age\n",
    "train['Age'].fillna(train['Age'].dropna().median(), inplace=True)\n",
    "train.loc[ train['Age'] <= 16, 'Age'] = 0\n",
    "train.loc[(train['Age'] > 16) & (train['Age'] <= 32), 'Age'] = 1\n",
    "train.loc[(train['Age'] > 32) & (train['Age'] <= 48), 'Age'] = 2\n",
    "train.loc[(train['Age'] > 48) & (train['Age'] <= 64), 'Age'] = 3\n",
    "train.loc[ train['Age'] > 64, 'Age'] = 4\n",
    "\n",
    "#mapping Fare\n",
    "train['Fare'].fillna(train['Fare'].dropna().median(), inplace=True)\n",
    "train.loc[ train['Fare'] <= 7.91, 'Fare'] = 0\n",
    "train.loc[(train['Fare'] > 7.91) & (train['Fare'] <= 14.454), 'Fare'] = 1\n",
    "train.loc[(train['Fare'] > 14.454) & (train['Fare'] <= 31), 'Fare']   = 2\n",
    "train.loc[ train['Fare'] > 31, 'Fare'] = 3\n",
    "train['Fare'] = train['Fare'].astype(int)\n",
    "\n",
    "#mapping Embarked\n",
    "train[\"Embarked\"] = train['Embarked'].map( {'S': 0, 'C': 1, 'Q': 2} )\n",
    "train['Embarked'] = train[\"Embarked\"].fillna(0)\n",
    "\n",
    "#mapping IsAlone\n",
    "train['IsAlone'] = 0\n",
    "train['FamilySize'] = train['SibSp'] + train['Parch'] + 1\n",
    "train.loc[train['FamilySize'] == 1, 'IsAlone'] = 1\n",
    "\n",
    "#cleaning up Remainder Data\n",
    "train['Embarked'] = train['Embarked'].astype(int)\n",
    "train['Title'] = train['Title'].astype(int)\n",
    "train['Age'] = train['Age'].astype(int)\n",
    "train = train.drop(['SibSp', 'Parch', 'PassengerId', 'Name', 'Ticket', 'Cabin', 'AgeCat'], axis = 1)\n",
    "\n",
    "#display Data\n",
    "train.head(10)"
   ]
  },
  {
   "cell_type": "markdown",
   "metadata": {
    "papermill": {
     "duration": 0.095097,
     "end_time": "2020-11-08T08:14:30.864162",
     "exception": false,
     "start_time": "2020-11-08T08:14:30.769065",
     "status": "completed"
    },
    "tags": []
   },
   "source": [
    "#### Cleaning and Mapping Test Dataset"
   ]
  },
  {
   "cell_type": "code",
   "execution_count": 29,
   "metadata": {
    "execution": {
     "iopub.execute_input": "2020-11-08T08:14:31.084460Z",
     "iopub.status.busy": "2020-11-08T08:14:31.068233Z",
     "iopub.status.idle": "2020-11-08T08:14:31.169073Z",
     "shell.execute_reply": "2020-11-08T08:14:31.168326Z"
    },
    "papermill": {
     "duration": 0.210156,
     "end_time": "2020-11-08T08:14:31.169208",
     "exception": false,
     "start_time": "2020-11-08T08:14:30.959052",
     "status": "completed"
    },
    "tags": []
   },
   "outputs": [
    {
     "data": {
      "text/html": [
       "<div>\n",
       "<style scoped>\n",
       "    .dataframe tbody tr th:only-of-type {\n",
       "        vertical-align: middle;\n",
       "    }\n",
       "\n",
       "    .dataframe tbody tr th {\n",
       "        vertical-align: top;\n",
       "    }\n",
       "\n",
       "    .dataframe thead th {\n",
       "        text-align: right;\n",
       "    }\n",
       "</style>\n",
       "<table border=\"1\" class=\"dataframe\">\n",
       "  <thead>\n",
       "    <tr style=\"text-align: right;\">\n",
       "      <th></th>\n",
       "      <th>PassengerId</th>\n",
       "      <th>Pclass</th>\n",
       "      <th>Sex</th>\n",
       "      <th>Age</th>\n",
       "      <th>Fare</th>\n",
       "      <th>Embarked</th>\n",
       "      <th>Title</th>\n",
       "      <th>IsAlone</th>\n",
       "      <th>FamilySize</th>\n",
       "    </tr>\n",
       "  </thead>\n",
       "  <tbody>\n",
       "    <tr>\n",
       "      <th>0</th>\n",
       "      <td>892</td>\n",
       "      <td>3</td>\n",
       "      <td>0</td>\n",
       "      <td>2</td>\n",
       "      <td>0</td>\n",
       "      <td>2</td>\n",
       "      <td>1</td>\n",
       "      <td>1</td>\n",
       "      <td>1</td>\n",
       "    </tr>\n",
       "    <tr>\n",
       "      <th>1</th>\n",
       "      <td>893</td>\n",
       "      <td>3</td>\n",
       "      <td>1</td>\n",
       "      <td>2</td>\n",
       "      <td>0</td>\n",
       "      <td>0</td>\n",
       "      <td>3</td>\n",
       "      <td>0</td>\n",
       "      <td>2</td>\n",
       "    </tr>\n",
       "    <tr>\n",
       "      <th>2</th>\n",
       "      <td>894</td>\n",
       "      <td>2</td>\n",
       "      <td>0</td>\n",
       "      <td>3</td>\n",
       "      <td>1</td>\n",
       "      <td>2</td>\n",
       "      <td>1</td>\n",
       "      <td>1</td>\n",
       "      <td>1</td>\n",
       "    </tr>\n",
       "    <tr>\n",
       "      <th>3</th>\n",
       "      <td>895</td>\n",
       "      <td>3</td>\n",
       "      <td>0</td>\n",
       "      <td>1</td>\n",
       "      <td>1</td>\n",
       "      <td>0</td>\n",
       "      <td>1</td>\n",
       "      <td>1</td>\n",
       "      <td>1</td>\n",
       "    </tr>\n",
       "    <tr>\n",
       "      <th>4</th>\n",
       "      <td>896</td>\n",
       "      <td>3</td>\n",
       "      <td>1</td>\n",
       "      <td>1</td>\n",
       "      <td>1</td>\n",
       "      <td>0</td>\n",
       "      <td>3</td>\n",
       "      <td>0</td>\n",
       "      <td>3</td>\n",
       "    </tr>\n",
       "    <tr>\n",
       "      <th>5</th>\n",
       "      <td>897</td>\n",
       "      <td>3</td>\n",
       "      <td>0</td>\n",
       "      <td>0</td>\n",
       "      <td>1</td>\n",
       "      <td>0</td>\n",
       "      <td>1</td>\n",
       "      <td>1</td>\n",
       "      <td>1</td>\n",
       "    </tr>\n",
       "    <tr>\n",
       "      <th>6</th>\n",
       "      <td>898</td>\n",
       "      <td>3</td>\n",
       "      <td>1</td>\n",
       "      <td>1</td>\n",
       "      <td>0</td>\n",
       "      <td>2</td>\n",
       "      <td>2</td>\n",
       "      <td>1</td>\n",
       "      <td>1</td>\n",
       "    </tr>\n",
       "    <tr>\n",
       "      <th>7</th>\n",
       "      <td>899</td>\n",
       "      <td>2</td>\n",
       "      <td>0</td>\n",
       "      <td>1</td>\n",
       "      <td>2</td>\n",
       "      <td>0</td>\n",
       "      <td>1</td>\n",
       "      <td>0</td>\n",
       "      <td>3</td>\n",
       "    </tr>\n",
       "    <tr>\n",
       "      <th>8</th>\n",
       "      <td>900</td>\n",
       "      <td>3</td>\n",
       "      <td>1</td>\n",
       "      <td>1</td>\n",
       "      <td>0</td>\n",
       "      <td>1</td>\n",
       "      <td>3</td>\n",
       "      <td>1</td>\n",
       "      <td>1</td>\n",
       "    </tr>\n",
       "    <tr>\n",
       "      <th>9</th>\n",
       "      <td>901</td>\n",
       "      <td>3</td>\n",
       "      <td>0</td>\n",
       "      <td>1</td>\n",
       "      <td>2</td>\n",
       "      <td>0</td>\n",
       "      <td>1</td>\n",
       "      <td>0</td>\n",
       "      <td>3</td>\n",
       "    </tr>\n",
       "  </tbody>\n",
       "</table>\n",
       "</div>"
      ],
      "text/plain": [
       "   PassengerId  Pclass  Sex  Age  Fare  Embarked  Title  IsAlone  FamilySize\n",
       "0          892       3    0    2     0         2      1        1           1\n",
       "1          893       3    1    2     0         0      3        0           2\n",
       "2          894       2    0    3     1         2      1        1           1\n",
       "3          895       3    0    1     1         0      1        1           1\n",
       "4          896       3    1    1     1         0      3        0           3\n",
       "5          897       3    0    0     1         0      1        1           1\n",
       "6          898       3    1    1     0         2      2        1           1\n",
       "7          899       2    0    1     2         0      1        0           3\n",
       "8          900       3    1    1     0         1      3        1           1\n",
       "9          901       3    0    1     2         0      1        0           3"
      ]
     },
     "execution_count": 29,
     "metadata": {},
     "output_type": "execute_result"
    }
   ],
   "source": [
    "#mapping Title\n",
    "for title in data:\n",
    "    test['Title'] = test['Name'].str.extract(' ([A-Za-z]+)\\.', expand=False)\n",
    "for title in test:\n",
    "    test['Title'] = test['Title'].replace(['Lady', 'Countess', 'Capt', 'Col', 'Don', 'Dr', 'Major', 'Rev', 'Sir', 'Jonkheer', 'Dona'], 'Other')\n",
    "    test['Title'] = test['Title'].replace('Mlle', 'Miss')\n",
    "    test['Title'] = test['Title'].replace('Ms', 'Miss')\n",
    "    test['Title'] = test['Title'].replace('Mme', 'Mrs')\n",
    "    title_mapping = {\"Mr\": 1, \"Miss\": 2, \"Mrs\": 3, \"Master\": 4, \"Other\": 5}\n",
    "test[\"Title\"] = test['Title'].map(title_mapping)\n",
    "test['Title'].fillna(test['Title'].dropna().median(), inplace=True)\n",
    "\n",
    "#mapping Sex\n",
    "test['Sex'] = test['Sex'].map( {'female': 1, 'male': 0} )\n",
    "test['Sex'].fillna(test['Sex'].dropna().median(), inplace=True)\n",
    "test['Sex'] = test['Sex'].astype(int)\n",
    "\n",
    "#mapping Age\n",
    "test['Age'].fillna(test['Age'].dropna().median(), inplace=True)\n",
    "test.loc[ test['Age'] <= 16, 'Age'] = 0\n",
    "test.loc[(test['Age'] > 16) & (test['Age'] <= 32), 'Age'] = 1\n",
    "test.loc[(test['Age'] > 32) & (test['Age'] <= 48), 'Age'] = 2\n",
    "test.loc[(test['Age'] > 48) & (test['Age'] <= 64), 'Age'] = 3\n",
    "test.loc[ test['Age'] > 64, 'Age'] = 4\n",
    "\n",
    "#mapping Fare\n",
    "test['Fare'].fillna(test['Fare'].dropna().median(), inplace=True)\n",
    "test.loc[ test['Fare'] <= 7.91, 'Fare'] = 0\n",
    "test.loc[(test['Fare'] > 7.91) & (test['Fare'] <= 14.454), 'Fare'] = 1\n",
    "test.loc[(test['Fare'] > 14.454) & (test['Fare'] <= 31), 'Fare']   = 2\n",
    "test.loc[ test['Fare'] > 31, 'Fare'] = 3\n",
    "test['Fare'] = test['Fare'].astype(int)\n",
    "\n",
    "#mapping Embarked\n",
    "test[\"Embarked\"] = test['Embarked'].map( {'S': 0, 'C': 1, 'Q': 2} )\n",
    "test['Embarked'] = test[\"Embarked\"].fillna(0)\n",
    "\n",
    "#mapping IsAlone\n",
    "test['IsAlone'] = 0\n",
    "test['FamilySize'] = test['SibSp'] + test['Parch'] + 1\n",
    "test.loc[test['FamilySize'] == 1, 'IsAlone'] = 1\n",
    "\n",
    "#cleaning up Remainder Data\n",
    "test['Embarked'] = test['Embarked'].astype(int)\n",
    "test['Title'] = test['Title'].astype(int)\n",
    "test['Age'] = test['Age'].astype(int)\n",
    "test = test.drop(['SibSp', 'Parch', 'Name', 'Ticket', 'Cabin'], axis = 1)\n",
    "\n",
    "#display Data\n",
    "test.head(10)"
   ]
  },
  {
   "cell_type": "markdown",
   "metadata": {
    "papermill": {
     "duration": 0.095252,
     "end_time": "2020-11-08T08:14:31.360409",
     "exception": false,
     "start_time": "2020-11-08T08:14:31.265157",
     "status": "completed"
    },
    "tags": []
   },
   "source": [
    "Now that the data has been dealt with, we can now move on to Machine Learning models. "
   ]
  },
  {
   "cell_type": "markdown",
   "metadata": {
    "papermill": {
     "duration": 0.09574,
     "end_time": "2020-11-08T08:14:31.553758",
     "exception": false,
     "start_time": "2020-11-08T08:14:31.458018",
     "status": "completed"
    },
    "tags": []
   },
   "source": [
    "### Machine Learning using Models and Predictions"
   ]
  },
  {
   "cell_type": "markdown",
   "metadata": {
    "papermill": {
     "duration": 0.0945,
     "end_time": "2020-11-08T08:14:31.743580",
     "exception": false,
     "start_time": "2020-11-08T08:14:31.649080",
     "status": "completed"
    },
    "tags": []
   },
   "source": [
    "This is the final step of the model. Here, we use different machine learning algorithms to see which gives the best prediction with our data. \n",
    "\n",
    "We start with normalising both datasets, bringing them to the same shape and datatype."
   ]
  },
  {
   "cell_type": "code",
   "execution_count": 30,
   "metadata": {
    "execution": {
     "iopub.execute_input": "2020-11-08T08:14:31.946576Z",
     "iopub.status.busy": "2020-11-08T08:14:31.945353Z",
     "iopub.status.idle": "2020-11-08T08:14:31.950417Z",
     "shell.execute_reply": "2020-11-08T08:14:31.949680Z"
    },
    "papermill": {
     "duration": 0.111412,
     "end_time": "2020-11-08T08:14:31.950551",
     "exception": false,
     "start_time": "2020-11-08T08:14:31.839139",
     "status": "completed"
    },
    "tags": []
   },
   "outputs": [
    {
     "data": {
      "text/plain": [
       "((891, 8), (891,), (418, 8))"
      ]
     },
     "execution_count": 30,
     "metadata": {},
     "output_type": "execute_result"
    }
   ],
   "source": [
    "X_train = train.drop(\"Survived\", axis=1)\n",
    "Y_train = train[\"Survived\"]\n",
    "X_test  = test.drop(\"PassengerId\", axis=1).copy()\n",
    "X_train.shape, Y_train.shape, X_test.shape"
   ]
  },
  {
   "cell_type": "markdown",
   "metadata": {
    "papermill": {
     "duration": 0.096001,
     "end_time": "2020-11-08T08:14:32.142313",
     "exception": false,
     "start_time": "2020-11-08T08:14:32.046312",
     "status": "completed"
    },
    "tags": []
   },
   "source": [
    "We need to select models based on our data. Since we have all the data to begin with, we need not look beyond a Supervised Learning ALgorithm. All the model has to do in this case is use the vailable data to make comparisons and provide us with the best value. \n",
    "\n",
    "With these two criteria - Supervised Learning plus Classification and Regression, we can narrow down our choice of models to a few. These include:\n",
    "\n",
    "* Logistic Regression Algorithm\n",
    "* KNN or k-Nearest Neighbors Algorithm\n",
    "* Support Vector Machines Algorithm\n",
    "* Naive Bayes Classifier Algorithm\n",
    "* Decision Tree Algorithm\n",
    "* Random Forest Algorithm\n",
    "* Perceptron Algorithm\n",
    "* Artificial Neural Network Algorithm\n",
    "* RVM or Relevance Vector Machine Algorithm"
   ]
  },
  {
   "cell_type": "markdown",
   "metadata": {
    "papermill": {
     "duration": 0.09717,
     "end_time": "2020-11-08T08:14:32.336315",
     "exception": false,
     "start_time": "2020-11-08T08:14:32.239145",
     "status": "completed"
    },
    "tags": []
   },
   "source": [
    "#### Logistic Regression Algorithm"
   ]
  },
  {
   "cell_type": "code",
   "execution_count": 31,
   "metadata": {
    "execution": {
     "iopub.execute_input": "2020-11-08T08:14:32.542006Z",
     "iopub.status.busy": "2020-11-08T08:14:32.540998Z",
     "iopub.status.idle": "2020-11-08T08:14:32.577208Z",
     "shell.execute_reply": "2020-11-08T08:14:32.577856Z"
    },
    "papermill": {
     "duration": 0.144371,
     "end_time": "2020-11-08T08:14:32.578030",
     "exception": false,
     "start_time": "2020-11-08T08:14:32.433659",
     "status": "completed"
    },
    "tags": []
   },
   "outputs": [
    {
     "data": {
      "text/plain": [
       "81.59"
      ]
     },
     "execution_count": 31,
     "metadata": {},
     "output_type": "execute_result"
    }
   ],
   "source": [
    "logreg = LogisticRegression()\n",
    "logreg.fit(X_train, Y_train)\n",
    "Y_pred = logreg.predict(X_test)\n",
    "acc_log = round(logreg.score(X_train, Y_train) * 100, 2)\n",
    "acc_log"
   ]
  },
  {
   "cell_type": "markdown",
   "metadata": {
    "papermill": {
     "duration": 0.09583,
     "end_time": "2020-11-08T08:14:32.770205",
     "exception": false,
     "start_time": "2020-11-08T08:14:32.674375",
     "status": "completed"
    },
    "tags": []
   },
   "source": [
    "We now provide a coefficient of correlation, to better help explain the data available to us. \n",
    "\n",
    "For example, we measure correlation as -> feature compared to its survival rate. \n",
    "\n",
    "So, within the sex category, female has the highest correlation with survival. \n",
    "\n",
    "Similarly, within title, Master and Mrs have the highest correlation with survival. \n",
    "\n",
    "We can map this out as shown below."
   ]
  },
  {
   "cell_type": "code",
   "execution_count": 32,
   "metadata": {
    "execution": {
     "iopub.execute_input": "2020-11-08T08:14:32.980377Z",
     "iopub.status.busy": "2020-11-08T08:14:32.976585Z",
     "iopub.status.idle": "2020-11-08T08:14:32.984578Z",
     "shell.execute_reply": "2020-11-08T08:14:32.985129Z"
    },
    "papermill": {
     "duration": 0.118573,
     "end_time": "2020-11-08T08:14:32.985303",
     "exception": false,
     "start_time": "2020-11-08T08:14:32.866730",
     "status": "completed"
    },
    "tags": []
   },
   "outputs": [
    {
     "data": {
      "text/html": [
       "<div>\n",
       "<style scoped>\n",
       "    .dataframe tbody tr th:only-of-type {\n",
       "        vertical-align: middle;\n",
       "    }\n",
       "\n",
       "    .dataframe tbody tr th {\n",
       "        vertical-align: top;\n",
       "    }\n",
       "\n",
       "    .dataframe thead th {\n",
       "        text-align: right;\n",
       "    }\n",
       "</style>\n",
       "<table border=\"1\" class=\"dataframe\">\n",
       "  <thead>\n",
       "    <tr style=\"text-align: right;\">\n",
       "      <th></th>\n",
       "      <th>Feature</th>\n",
       "      <th>Correlation</th>\n",
       "    </tr>\n",
       "  </thead>\n",
       "  <tbody>\n",
       "    <tr>\n",
       "      <th>1</th>\n",
       "      <td>Sex</td>\n",
       "      <td>2.196941</td>\n",
       "    </tr>\n",
       "    <tr>\n",
       "      <th>5</th>\n",
       "      <td>Title</td>\n",
       "      <td>0.472763</td>\n",
       "    </tr>\n",
       "    <tr>\n",
       "      <th>4</th>\n",
       "      <td>Embarked</td>\n",
       "      <td>0.222050</td>\n",
       "    </tr>\n",
       "    <tr>\n",
       "      <th>3</th>\n",
       "      <td>Fare</td>\n",
       "      <td>0.205258</td>\n",
       "    </tr>\n",
       "    <tr>\n",
       "      <th>7</th>\n",
       "      <td>FamilySize</td>\n",
       "      <td>-0.449038</td>\n",
       "    </tr>\n",
       "    <tr>\n",
       "      <th>6</th>\n",
       "      <td>IsAlone</td>\n",
       "      <td>-0.480219</td>\n",
       "    </tr>\n",
       "    <tr>\n",
       "      <th>2</th>\n",
       "      <td>Age</td>\n",
       "      <td>-0.567819</td>\n",
       "    </tr>\n",
       "    <tr>\n",
       "      <th>0</th>\n",
       "      <td>Pclass</td>\n",
       "      <td>-0.892110</td>\n",
       "    </tr>\n",
       "  </tbody>\n",
       "</table>\n",
       "</div>"
      ],
      "text/plain": [
       "      Feature  Correlation\n",
       "1         Sex     2.196941\n",
       "5       Title     0.472763\n",
       "4    Embarked     0.222050\n",
       "3        Fare     0.205258\n",
       "7  FamilySize    -0.449038\n",
       "6     IsAlone    -0.480219\n",
       "2         Age    -0.567819\n",
       "0      Pclass    -0.892110"
      ]
     },
     "execution_count": 32,
     "metadata": {},
     "output_type": "execute_result"
    }
   ],
   "source": [
    "coeff = pd.DataFrame(train.columns.delete(0))\n",
    "coeff.columns = ['Feature']\n",
    "coeff[\"Correlation\"] = pd.Series(logreg.coef_[0])\n",
    "\n",
    "coeff.sort_values(by='Correlation', ascending=False)"
   ]
  },
  {
   "cell_type": "markdown",
   "metadata": {
    "papermill": {
     "duration": 0.098068,
     "end_time": "2020-11-08T08:14:33.181127",
     "exception": false,
     "start_time": "2020-11-08T08:14:33.083059",
     "status": "completed"
    },
    "tags": []
   },
   "source": [
    "#### SVC Algorithm"
   ]
  },
  {
   "cell_type": "code",
   "execution_count": 33,
   "metadata": {
    "execution": {
     "iopub.execute_input": "2020-11-08T08:14:33.387938Z",
     "iopub.status.busy": "2020-11-08T08:14:33.386881Z",
     "iopub.status.idle": "2020-11-08T08:14:33.442985Z",
     "shell.execute_reply": "2020-11-08T08:14:33.442151Z"
    },
    "papermill": {
     "duration": 0.164498,
     "end_time": "2020-11-08T08:14:33.443131",
     "exception": false,
     "start_time": "2020-11-08T08:14:33.278633",
     "status": "completed"
    },
    "tags": []
   },
   "outputs": [
    {
     "data": {
      "text/plain": [
       "83.5"
      ]
     },
     "execution_count": 33,
     "metadata": {},
     "output_type": "execute_result"
    }
   ],
   "source": [
    "svc = SVC()\n",
    "svc.fit(X_train, Y_train)\n",
    "Y_pred = svc.predict(X_test)\n",
    "acc_svc = round(svc.score(X_train, Y_train) * 100, 2)\n",
    "acc_svc"
   ]
  },
  {
   "cell_type": "markdown",
   "metadata": {
    "papermill": {
     "duration": 0.097921,
     "end_time": "2020-11-08T08:14:33.640002",
     "exception": false,
     "start_time": "2020-11-08T08:14:33.542081",
     "status": "completed"
    },
    "tags": []
   },
   "source": [
    "#### k-Nearest Neighbours (kNN) Algorithm"
   ]
  },
  {
   "cell_type": "code",
   "execution_count": 34,
   "metadata": {
    "execution": {
     "iopub.execute_input": "2020-11-08T08:14:33.849873Z",
     "iopub.status.busy": "2020-11-08T08:14:33.849046Z",
     "iopub.status.idle": "2020-11-08T08:14:33.930177Z",
     "shell.execute_reply": "2020-11-08T08:14:33.929303Z"
    },
    "papermill": {
     "duration": 0.192066,
     "end_time": "2020-11-08T08:14:33.930326",
     "exception": false,
     "start_time": "2020-11-08T08:14:33.738260",
     "status": "completed"
    },
    "tags": []
   },
   "outputs": [
    {
     "data": {
      "text/plain": [
       "84.29"
      ]
     },
     "execution_count": 34,
     "metadata": {},
     "output_type": "execute_result"
    }
   ],
   "source": [
    "knn = KNeighborsClassifier(n_neighbors = 3)\n",
    "knn.fit(X_train, Y_train)\n",
    "Y_pred = knn.predict(X_test)\n",
    "acc_knn = round(knn.score(X_train, Y_train) * 100, 2)\n",
    "acc_knn"
   ]
  },
  {
   "cell_type": "markdown",
   "metadata": {
    "papermill": {
     "duration": 0.098562,
     "end_time": "2020-11-08T08:14:34.128804",
     "exception": false,
     "start_time": "2020-11-08T08:14:34.030242",
     "status": "completed"
    },
    "tags": []
   },
   "source": [
    "#### Gaussian Algorithm"
   ]
  },
  {
   "cell_type": "code",
   "execution_count": 35,
   "metadata": {
    "execution": {
     "iopub.execute_input": "2020-11-08T08:14:34.337389Z",
     "iopub.status.busy": "2020-11-08T08:14:34.336126Z",
     "iopub.status.idle": "2020-11-08T08:14:34.350241Z",
     "shell.execute_reply": "2020-11-08T08:14:34.349417Z"
    },
    "papermill": {
     "duration": 0.122652,
     "end_time": "2020-11-08T08:14:34.350385",
     "exception": false,
     "start_time": "2020-11-08T08:14:34.227733",
     "status": "completed"
    },
    "tags": []
   },
   "outputs": [
    {
     "data": {
      "text/plain": [
       "80.13"
      ]
     },
     "execution_count": 35,
     "metadata": {},
     "output_type": "execute_result"
    }
   ],
   "source": [
    "gaussian = GaussianNB()\n",
    "gaussian.fit(X_train, Y_train)\n",
    "Y_pred = gaussian.predict(X_test)\n",
    "acc_gaussian = round(gaussian.score(X_train, Y_train) * 100, 2)\n",
    "acc_gaussian"
   ]
  },
  {
   "cell_type": "markdown",
   "metadata": {
    "papermill": {
     "duration": 0.099461,
     "end_time": "2020-11-08T08:14:34.549913",
     "exception": false,
     "start_time": "2020-11-08T08:14:34.450452",
     "status": "completed"
    },
    "tags": []
   },
   "source": [
    "#### Perceptron Algorithm"
   ]
  },
  {
   "cell_type": "code",
   "execution_count": 36,
   "metadata": {
    "execution": {
     "iopub.execute_input": "2020-11-08T08:14:34.758387Z",
     "iopub.status.busy": "2020-11-08T08:14:34.757577Z",
     "iopub.status.idle": "2020-11-08T08:14:34.772402Z",
     "shell.execute_reply": "2020-11-08T08:14:34.771750Z"
    },
    "papermill": {
     "duration": 0.123613,
     "end_time": "2020-11-08T08:14:34.772548",
     "exception": false,
     "start_time": "2020-11-08T08:14:34.648935",
     "status": "completed"
    },
    "tags": []
   },
   "outputs": [
    {
     "data": {
      "text/plain": [
       "79.69"
      ]
     },
     "execution_count": 36,
     "metadata": {},
     "output_type": "execute_result"
    }
   ],
   "source": [
    "perceptron = Perceptron()\n",
    "perceptron.fit(X_train, Y_train)\n",
    "Y_pred = perceptron.predict(X_test)\n",
    "acc_perceptron = round(perceptron.score(X_train, Y_train) * 100, 2)\n",
    "acc_perceptron"
   ]
  },
  {
   "cell_type": "markdown",
   "metadata": {
    "papermill": {
     "duration": 0.099947,
     "end_time": "2020-11-08T08:14:34.972940",
     "exception": false,
     "start_time": "2020-11-08T08:14:34.872993",
     "status": "completed"
    },
    "tags": []
   },
   "source": [
    "#### Linear SVC Algorithm"
   ]
  },
  {
   "cell_type": "code",
   "execution_count": 37,
   "metadata": {
    "execution": {
     "iopub.execute_input": "2020-11-08T08:14:35.182549Z",
     "iopub.status.busy": "2020-11-08T08:14:35.181722Z",
     "iopub.status.idle": "2020-11-08T08:14:35.249132Z",
     "shell.execute_reply": "2020-11-08T08:14:35.248366Z"
    },
    "papermill": {
     "duration": 0.176738,
     "end_time": "2020-11-08T08:14:35.249266",
     "exception": false,
     "start_time": "2020-11-08T08:14:35.072528",
     "status": "completed"
    },
    "tags": []
   },
   "outputs": [
    {
     "name": "stderr",
     "output_type": "stream",
     "text": [
      "/opt/conda/lib/python3.7/site-packages/sklearn/svm/_base.py:977: ConvergenceWarning: Liblinear failed to converge, increase the number of iterations.\n",
      "  \"the number of iterations.\", ConvergenceWarning)\n"
     ]
    },
    {
     "data": {
      "text/plain": [
       "81.71"
      ]
     },
     "execution_count": 37,
     "metadata": {},
     "output_type": "execute_result"
    }
   ],
   "source": [
    "linear_svc = LinearSVC()\n",
    "linear_svc.fit(X_train, Y_train)\n",
    "Y_pred = linear_svc.predict(X_test)\n",
    "acc_linear_svc = round(linear_svc.score(X_train, Y_train) * 100, 2)\n",
    "acc_linear_svc"
   ]
  },
  {
   "cell_type": "markdown",
   "metadata": {
    "papermill": {
     "duration": 0.101109,
     "end_time": "2020-11-08T08:14:35.452441",
     "exception": false,
     "start_time": "2020-11-08T08:14:35.351332",
     "status": "completed"
    },
    "tags": []
   },
   "source": [
    "#### Stochastic Gradient Descent Algorithm"
   ]
  },
  {
   "cell_type": "code",
   "execution_count": 38,
   "metadata": {
    "execution": {
     "iopub.execute_input": "2020-11-08T08:14:35.666669Z",
     "iopub.status.busy": "2020-11-08T08:14:35.665567Z",
     "iopub.status.idle": "2020-11-08T08:14:35.682556Z",
     "shell.execute_reply": "2020-11-08T08:14:35.681902Z"
    },
    "papermill": {
     "duration": 0.128824,
     "end_time": "2020-11-08T08:14:35.682719",
     "exception": false,
     "start_time": "2020-11-08T08:14:35.553895",
     "status": "completed"
    },
    "tags": []
   },
   "outputs": [
    {
     "data": {
      "text/plain": [
       "79.35"
      ]
     },
     "execution_count": 38,
     "metadata": {},
     "output_type": "execute_result"
    }
   ],
   "source": [
    "sgd = SGDClassifier()\n",
    "sgd.fit(X_train, Y_train)\n",
    "Y_pred = sgd.predict(X_test)\n",
    "acc_sgd = round(sgd.score(X_train, Y_train) * 100, 2)\n",
    "acc_sgd"
   ]
  },
  {
   "cell_type": "markdown",
   "metadata": {
    "papermill": {
     "duration": 0.101587,
     "end_time": "2020-11-08T08:14:35.886084",
     "exception": false,
     "start_time": "2020-11-08T08:14:35.784497",
     "status": "completed"
    },
    "tags": []
   },
   "source": [
    "#### Decision Tree Classifier Algorithm"
   ]
  },
  {
   "cell_type": "code",
   "execution_count": 39,
   "metadata": {
    "execution": {
     "iopub.execute_input": "2020-11-08T08:14:36.104837Z",
     "iopub.status.busy": "2020-11-08T08:14:36.103935Z",
     "iopub.status.idle": "2020-11-08T08:14:36.119562Z",
     "shell.execute_reply": "2020-11-08T08:14:36.118703Z"
    },
    "papermill": {
     "duration": 0.128593,
     "end_time": "2020-11-08T08:14:36.119736",
     "exception": false,
     "start_time": "2020-11-08T08:14:35.991143",
     "status": "completed"
    },
    "tags": []
   },
   "outputs": [
    {
     "data": {
      "text/plain": [
       "88.78"
      ]
     },
     "execution_count": 39,
     "metadata": {},
     "output_type": "execute_result"
    }
   ],
   "source": [
    "decision_tree = DecisionTreeClassifier()\n",
    "decision_tree.fit(X_train, Y_train)\n",
    "Y_pred = decision_tree.predict(X_test)\n",
    "acc_decision_tree = round(decision_tree.score(X_train, Y_train) * 100, 2)\n",
    "acc_decision_tree"
   ]
  },
  {
   "cell_type": "markdown",
   "metadata": {
    "papermill": {
     "duration": 0.102386,
     "end_time": "2020-11-08T08:14:36.324415",
     "exception": false,
     "start_time": "2020-11-08T08:14:36.222029",
     "status": "completed"
    },
    "tags": []
   },
   "source": [
    "#### Random Forest Classifier Algorithm"
   ]
  },
  {
   "cell_type": "code",
   "execution_count": 40,
   "metadata": {
    "execution": {
     "iopub.execute_input": "2020-11-08T08:14:36.541522Z",
     "iopub.status.busy": "2020-11-08T08:14:36.540481Z",
     "iopub.status.idle": "2020-11-08T08:14:36.872881Z",
     "shell.execute_reply": "2020-11-08T08:14:36.871980Z"
    },
    "papermill": {
     "duration": 0.44419,
     "end_time": "2020-11-08T08:14:36.873026",
     "exception": false,
     "start_time": "2020-11-08T08:14:36.428836",
     "status": "completed"
    },
    "tags": []
   },
   "outputs": [
    {
     "data": {
      "text/plain": [
       "88.78"
      ]
     },
     "execution_count": 40,
     "metadata": {},
     "output_type": "execute_result"
    }
   ],
   "source": [
    "random_forest = RandomForestClassifier(n_estimators=100)\n",
    "random_forest.fit(X_train, Y_train)\n",
    "Y_pred = random_forest.predict(X_test)\n",
    "random_forest.score(X_train, Y_train)\n",
    "acc_random_forest = round(random_forest.score(X_train, Y_train) * 100, 2)\n",
    "acc_random_forest"
   ]
  },
  {
   "cell_type": "markdown",
   "metadata": {
    "papermill": {
     "duration": 0.102095,
     "end_time": "2020-11-08T08:14:37.077679",
     "exception": false,
     "start_time": "2020-11-08T08:14:36.975584",
     "status": "completed"
    },
    "tags": []
   },
   "source": [
    "Now that we have represented all the models, it is time to see which model performed best. "
   ]
  },
  {
   "cell_type": "code",
   "execution_count": 41,
   "metadata": {
    "execution": {
     "iopub.execute_input": "2020-11-08T08:14:37.300369Z",
     "iopub.status.busy": "2020-11-08T08:14:37.299404Z",
     "iopub.status.idle": "2020-11-08T08:14:37.304927Z",
     "shell.execute_reply": "2020-11-08T08:14:37.304223Z"
    },
    "papermill": {
     "duration": 0.124543,
     "end_time": "2020-11-08T08:14:37.305069",
     "exception": false,
     "start_time": "2020-11-08T08:14:37.180526",
     "status": "completed"
    },
    "tags": []
   },
   "outputs": [
    {
     "data": {
      "text/html": [
       "<div>\n",
       "<style scoped>\n",
       "    .dataframe tbody tr th:only-of-type {\n",
       "        vertical-align: middle;\n",
       "    }\n",
       "\n",
       "    .dataframe tbody tr th {\n",
       "        vertical-align: top;\n",
       "    }\n",
       "\n",
       "    .dataframe thead th {\n",
       "        text-align: right;\n",
       "    }\n",
       "</style>\n",
       "<table border=\"1\" class=\"dataframe\">\n",
       "  <thead>\n",
       "    <tr style=\"text-align: right;\">\n",
       "      <th></th>\n",
       "      <th>Model</th>\n",
       "      <th>Score</th>\n",
       "    </tr>\n",
       "  </thead>\n",
       "  <tbody>\n",
       "    <tr>\n",
       "      <th>3</th>\n",
       "      <td>Random Forest</td>\n",
       "      <td>88.78</td>\n",
       "    </tr>\n",
       "    <tr>\n",
       "      <th>8</th>\n",
       "      <td>Decision Tree</td>\n",
       "      <td>88.78</td>\n",
       "    </tr>\n",
       "    <tr>\n",
       "      <th>1</th>\n",
       "      <td>KNN</td>\n",
       "      <td>84.29</td>\n",
       "    </tr>\n",
       "    <tr>\n",
       "      <th>0</th>\n",
       "      <td>Support Vector Machines</td>\n",
       "      <td>83.50</td>\n",
       "    </tr>\n",
       "    <tr>\n",
       "      <th>7</th>\n",
       "      <td>Linear SVC</td>\n",
       "      <td>81.71</td>\n",
       "    </tr>\n",
       "    <tr>\n",
       "      <th>2</th>\n",
       "      <td>Logistic Regression</td>\n",
       "      <td>81.59</td>\n",
       "    </tr>\n",
       "    <tr>\n",
       "      <th>4</th>\n",
       "      <td>Naive Bayes</td>\n",
       "      <td>80.13</td>\n",
       "    </tr>\n",
       "    <tr>\n",
       "      <th>5</th>\n",
       "      <td>Perceptron</td>\n",
       "      <td>79.69</td>\n",
       "    </tr>\n",
       "    <tr>\n",
       "      <th>6</th>\n",
       "      <td>Stochastic Gradient Descent</td>\n",
       "      <td>79.35</td>\n",
       "    </tr>\n",
       "  </tbody>\n",
       "</table>\n",
       "</div>"
      ],
      "text/plain": [
       "                         Model  Score\n",
       "3                Random Forest  88.78\n",
       "8                Decision Tree  88.78\n",
       "1                          KNN  84.29\n",
       "0      Support Vector Machines  83.50\n",
       "7                   Linear SVC  81.71\n",
       "2          Logistic Regression  81.59\n",
       "4                  Naive Bayes  80.13\n",
       "5                   Perceptron  79.69\n",
       "6  Stochastic Gradient Descent  79.35"
      ]
     },
     "execution_count": 41,
     "metadata": {},
     "output_type": "execute_result"
    }
   ],
   "source": [
    "models = pd.DataFrame({\n",
    "    'Model': ['Support Vector Machines', 'KNN', 'Logistic Regression', \n",
    "              'Random Forest', 'Naive Bayes', 'Perceptron', \n",
    "              'Stochastic Gradient Descent', 'Linear SVC', \n",
    "              'Decision Tree'],\n",
    "    'Score': [acc_svc, acc_knn, acc_log, \n",
    "              acc_random_forest, acc_gaussian, acc_perceptron, \n",
    "              acc_sgd, acc_linear_svc, acc_decision_tree]})\n",
    "models.sort_values(by='Score', ascending=False)"
   ]
  },
  {
   "cell_type": "code",
   "execution_count": 42,
   "metadata": {
    "execution": {
     "iopub.execute_input": "2020-11-08T08:14:37.536516Z",
     "iopub.status.busy": "2020-11-08T08:14:37.529841Z",
     "iopub.status.idle": "2020-11-08T08:14:37.875376Z",
     "shell.execute_reply": "2020-11-08T08:14:37.874594Z"
    },
    "papermill": {
     "duration": 0.462703,
     "end_time": "2020-11-08T08:14:37.875517",
     "exception": false,
     "start_time": "2020-11-08T08:14:37.412814",
     "status": "completed"
    },
    "tags": []
   },
   "outputs": [
    {
     "data": {
      "image/png": "[encoded data removed]",
      "text/plain": [
       "<Figure size 720x576 with 1 Axes>"
      ]
     },
     "metadata": {},
     "output_type": "display_data"
    }
   ],
   "source": [
    "fig, ax = plt.subplots(figsize=(10, 8))\n",
    "plt.rcParams['font.sans-serif'] = 'Arial'\n",
    "plt.rcParams['font.family'] = 'sans-serif'\n",
    "plt.rcParams['text.color'] = '#000000'\n",
    "plt.rcParams['axes.labelcolor']= '#000000'\n",
    "plt.rcParams['xtick.color'] = '#000000'\n",
    "plt.rcParams['ytick.color'] = '#000000'\n",
    "plt.rcParams['font.size']=12\n",
    "\n",
    "sns.despine()\n",
    "sns.set_style(\"white\")\n",
    "sns_agelive = sns.barplot(y='Model', x='Score', data=models.reset_index(), ax=ax)\n",
    "ax.set_title(\"Machine Learning Models - Performance\", fontsize=15)\n",
    "ax.set_ylabel(\"Score\")\n",
    "ax.set_xlabel(\"Machine Learning Model\")\n",
    "ax.set_yticklabels(models.Model)\n",
    "plt.show()"
   ]
  },
  {
   "cell_type": "code",
   "execution_count": 43,
   "metadata": {
    "execution": {
     "iopub.execute_input": "2020-11-08T08:14:38.092399Z",
     "iopub.status.busy": "2020-11-08T08:14:38.091586Z",
     "iopub.status.idle": "2020-11-08T08:14:38.414796Z",
     "shell.execute_reply": "2020-11-08T08:14:38.413999Z"
    },
    "papermill": {
     "duration": 0.434349,
     "end_time": "2020-11-08T08:14:38.414933",
     "exception": false,
     "start_time": "2020-11-08T08:14:37.980584",
     "status": "completed"
    },
    "tags": []
   },
   "outputs": [],
   "source": [
    "submission = pd.DataFrame({\n",
    "        \"PassengerId\": test[\"PassengerId\"],\n",
    "        \"Survived\": Y_pred\n",
    "    })\n",
    "submission.to_csv(\"Predictions Titanic.csv\")"
   ]
  }
 ],
 "metadata": {
  "kernelspec": {
   "display_name": "Python 3",
   "language": "python",
   "name": "python3"
  },
  "language_info": {
   "codemirror_mode": {
    "name": "ipython",
    "version": 3
   },
   "file_extension": ".py",
   "mimetype": "text/x-python",
   "name": "python",
   "nbconvert_exporter": "python",
   "pygments_lexer": "ipython3",
   "version": "3.7.6"
  },
  "papermill": {
   "duration": 31.144075,
   "end_time": "2020-11-08T08:14:39.555627",
   "environment_variables": {},
   "exception": null,
   "input_path": "__notebook__.ipynb",
   "output_path": "__notebook__.ipynb",
   "parameters": {},
   "start_time": "2020-11-08T08:14:08.411552",
   "version": "2.1.0"
  }
 },
 "nbformat": 4,
 "nbformat_minor": 4
}
